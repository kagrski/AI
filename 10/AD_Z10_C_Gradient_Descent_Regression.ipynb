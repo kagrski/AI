{
 "cells": [
  {
   "cell_type": "code",
   "execution_count": 35,
   "metadata": {},
   "outputs": [],
   "source": [
    "import numpy as np\n",
    "\n",
    "import matplotlib as mpl\n",
    "import matplotlib.pyplot as plt"
   ]
  },
  {
   "cell_type": "markdown",
   "metadata": {},
   "source": [
    "# Zad\n",
    "Wygenerujmy punkty w kształcie prostej."
   ]
  },
  {
   "cell_type": "code",
   "execution_count": 45,
   "metadata": {},
   "outputs": [
    {
     "data": {
      "image/png": "[encoded data removed]",
      "text/plain": [
       "<Figure size 432x288 with 1 Axes>"
      ]
     },
     "metadata": {
      "needs_background": "light"
     },
     "output_type": "display_data"
    }
   ],
   "source": [
    "X = 2 * np.random.rand(100, 1)\n",
    "y = 4 + 3 * X + np.random.randn(100, 1)\n",
    "\n",
    "plt.plot(X, y, \"b.\")\n",
    "plt.xlabel(\"$x_1$\", fontsize=18)\n",
    "plt.ylabel(\"$y$\", rotation=0, fontsize=18)\n",
    "plt.axis([0, 2, 0, 15])\n",
    "plt.show()"
   ]
  },
  {
   "cell_type": "markdown",
   "metadata": {},
   "source": [
    "# Zad \n",
    "Wyznacz parametry prostej regresji (najmniejszych kwadratów) ze wzoru:\n",
    "\n",
    "$$\n",
    "\\theta= (X^TX)^{-1}  X^T  y; \n",
    "$$\n",
    "\n",
    "gdzie \n",
    "$$\n",
    "X = \n",
    "\\begin{bmatrix}\n",
    "1, x_1 \\\\\n",
    "1, x_2 \\\\\n",
    "\\vdots, \\vdots \\\\\n",
    "1, x_n \\\\\n",
    "\\end{bmatrix}\n",
    "$$\n",
    "\n",
    "Zwizualizuj wynik."
   ]
  },
  {
   "cell_type": "code",
   "execution_count": 37,
   "metadata": {},
   "outputs": [
    {
     "data": {
      "text/plain": [
       "array([[4.19367891],\n",
       "       [2.7353477 ]])"
      ]
     },
     "execution_count": 37,
     "metadata": {},
     "output_type": "execute_result"
    }
   ],
   "source": [
    "X_b = np.c_[np.ones((100, 1)), X]  # add x0 = 1 to each instance\n",
    "theta_best = np.linalg.inv(X_b.T.dot(X_b)).dot(X_b.T).dot(y)\n",
    "\n",
    "theta_best"
   ]
  },
  {
   "cell_type": "code",
   "execution_count": 38,
   "metadata": {},
   "outputs": [],
   "source": [
    "f = lambda a, x, b: a*x + b"
   ]
  },
  {
   "cell_type": "code",
   "execution_count": 39,
   "metadata": {},
   "outputs": [
    {
     "data": {
      "image/png": "[encoded data removed]",
      "text/plain": [
       "<Figure size 432x288 with 1 Axes>"
      ]
     },
     "metadata": {
      "needs_background": "light"
     },
     "output_type": "display_data"
    }
   ],
   "source": [
    "import numpy as np\n",
    "X_new = np.linspace(0, 2, 1000)\n",
    "y_predict = f(theta_best[1][0], X_new, theta_best[0][0])\n",
    "plt.plot(X_new, y_predict, \"r-\")\n",
    "plt.plot(X, y, \"b.\")\n",
    "plt.axis([0, 2, 0, 15])\n",
    "plt.show()"
   ]
  },
  {
   "cell_type": "markdown",
   "metadata": {},
   "source": [
    "# Zad.\n",
    "Prównaj z wynikiem funkcji:\n",
    "```python\n",
    "LinearRegression()\n",
    "```"
   ]
  },
  {
   "cell_type": "code",
   "execution_count": 48,
   "metadata": {},
   "outputs": [
    {
     "data": {
      "image/png": "[encoded data removed]",
      "text/plain": [
       "<Figure size 432x288 with 1 Axes>"
      ]
     },
     "metadata": {
      "needs_background": "light"
     },
     "output_type": "display_data"
    }
   ],
   "source": [
    "from sklearn.linear_model import LinearRegression\n",
    "from sklearn.pipeline import make_pipeline\n",
    "from sklearn.preprocessing import PolynomialFeatures\n",
    "from sklearn import datasets, linear_model\n",
    "\n",
    "X_test = np.linspace(0, 2, 1000).reshape(-1, 1)\n",
    "model = make_pipeline(PolynomialFeatures(1), linear_model.LinearRegression())\n",
    "model.fit(X, y)\n",
    "y_test = model.predict(X_test)\n",
    "plt.plot(X_test, y_test, 'r')\n",
    "plt.plot(X, y, \"b.\")\n",
    "plt.axis([0, 2, 0, 15])\n",
    "plt.show()"
   ]
  },
  {
   "cell_type": "markdown",
   "metadata": {},
   "source": [
    "# Zad.\n",
    "Wykonaj algorytm minimalizacji gradientowej (w prostej petli).\n",
    "Wykorzystaj pochodną.\n",
    "\n",
    "Funkcja kosztu regresji:\n",
    "$$\n",
    "MSE(X;\\theta) = \\frac{1}{m} \\sum ( \\theta^T x_i - y_i  )^2.\n",
    "$$\n",
    "\n",
    "Pochodna funkcja kosztu regresji:\n",
    "\n",
    "$$\n",
    "\\frac{\\partial}{\\partial \\theta_j}MSE(X;\\theta) = \\frac{2}{m} \\sum ( \\theta^T x_i - y_i  )^2 x_i^{j}.\n",
    "$$\n",
    "\n",
    "Czyli gradient wynosi:\n",
    "\n",
    "$$\n",
    "\\nabla_{\\theta}MSE(X;\\theta) = \n",
    "\\begin{bmatrix}\n",
    "    \\frac{\\partial}{\\partial \\theta_0}MSE\\\\\n",
    "    \\frac{\\partial}{\\partial \\theta_1}MSE\\\\\n",
    "    \\vdots \\\\\n",
    "    \\frac{\\partial}{\\partial \\theta_d}MSE\n",
    "\\end{bmatrix}\n",
    "=\n",
    "\\frac{2}{m} X^T(\\theta^TX - Y  ).\n",
    "$$\n",
    "\n",
    "Metoda gradientowa\n",
    "\n",
    "$$\n",
    "\\theta^{\\small \\mbox{Nex step}} = \\theta - \\eta \\nabla_{\\theta} MSE\n",
    "$$\n",
    "\n",
    "### Zapisz wszystkie $\\theta$ w liście "
   ]
  },
  {
   "cell_type": "code",
   "execution_count": 2,
   "metadata": {},
   "outputs": [],
   "source": [
    "eta = 0.1  # learning rate\n",
    "n_iterations = 1000\n",
    "m = 100\n",
    "theta_path_bgd = []\n",
    "\n",
    "theta_0 = np.random.randn(2,1)  # random initialization\n",
    "\n",
    "theta = theta_0\n"
   ]
  },
  {
   "cell_type": "code",
   "execution_count": 7,
   "metadata": {},
   "outputs": [
    {
     "name": "stdout",
     "output_type": "stream",
     "text": [
      "[[4.09233193]\n",
      " [3.17205943]]\n"
     ]
    }
   ],
   "source": []
  },
  {
   "cell_type": "markdown",
   "metadata": {},
   "source": [
    "# Zad\n",
    "Zaimplemrntu Stochastic Gradient Descent.\n",
    "\n",
    "### Zapisz wszystkie $\\theta$ w liście "
   ]
  },
  {
   "cell_type": "code",
   "execution_count": 10,
   "metadata": {},
   "outputs": [],
   "source": [
    "theta_path_sgd = []\n",
    "m = len(X_b)\n",
    "np.random.seed(42)"
   ]
  },
  {
   "cell_type": "code",
   "execution_count": 3,
   "metadata": {},
   "outputs": [],
   "source": [
    "eta = 0.1  # learning rate\n",
    "n_iterations = 1000\n",
    "m = 100\n",
    "\n",
    "theta = theta_0\n"
   ]
  },
  {
   "cell_type": "code",
   "execution_count": 13,
   "metadata": {},
   "outputs": [
    {
     "name": "stdout",
     "output_type": "stream",
     "text": [
      "[[4.56308925]\n",
      " [3.08139533]]\n"
     ]
    }
   ],
   "source": []
  },
  {
   "cell_type": "markdown",
   "metadata": {},
   "source": [
    "# Zad\n",
    "Zaimplemrntu Mini-batch gradient descent\n",
    "\n",
    "### Zapisz wszystkie $\\theta$ w liście "
   ]
  },
  {
   "cell_type": "code",
   "execution_count": 4,
   "metadata": {},
   "outputs": [],
   "source": [
    "theta_path_mgd = []\n",
    "\n",
    "n_iterations = 50\n",
    "minibatch_size = 20\n",
    "\n",
    "theta = theta_0"
   ]
  },
  {
   "cell_type": "code",
   "execution_count": 5,
   "metadata": {},
   "outputs": [],
   "source": [
    "print(theta)"
   ]
  },
  {
   "cell_type": "markdown",
   "metadata": {},
   "source": [
    "# Zad\n",
    "Narysuj jak zmieniały parametr w różnych metodach."
   ]
  },
  {
   "cell_type": "code",
   "execution_count": 16,
   "metadata": {},
   "outputs": [],
   "source": [
    "theta_path_bgd = np.array(theta_path_bgd)\n",
    "theta_path_sgd = np.array(theta_path_sgd)\n",
    "theta_path_mgd = np.array(theta_path_mgd)"
   ]
  },
  {
   "cell_type": "code",
   "execution_count": 29,
   "metadata": {},
   "outputs": [
    {
     "data": {
      "image/png": "[encoded data removed]",
      "text/plain": [
       "<Figure size 504x288 with 1 Axes>"
      ]
     },
     "metadata": {
      "needs_background": "light"
     },
     "output_type": "display_data"
    }
   ],
   "source": []
  },
  {
   "cell_type": "code",
   "execution_count": null,
   "metadata": {},
   "outputs": [],
   "source": []
  }
 ],
 "metadata": {
  "kernelspec": {
   "display_name": "Python 3",
   "language": "python",
   "name": "python3"
  },
  "language_info": {
   "codemirror_mode": {
    "name": "ipython",
    "version": 3
   },
   "file_extension": ".py",
   "mimetype": "text/x-python",
   "name": "python",
   "nbconvert_exporter": "python",
   "pygments_lexer": "ipython3",
   "version": "3.8.2"
  }
 },
 "nbformat": 4,
 "nbformat_minor": 4
}
