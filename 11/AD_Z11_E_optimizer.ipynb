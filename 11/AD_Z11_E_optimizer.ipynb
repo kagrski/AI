{
 "cells": [
  {
   "cell_type": "code",
   "execution_count": 1,
   "metadata": {
    "colab": {
     "base_uri": "https://localhost:8080/",
     "height": 54
    },
    "colab_type": "code",
    "id": "AU4juZw91v8W",
    "outputId": "fafe1319-13cc-4a83-9603-ff65ef677e14"
   },
   "outputs": [
    {
     "name": "stdout",
     "output_type": "stream",
     "text": [
      "2.2.0\n",
      "2.3.0-tf\n"
     ]
    }
   ],
   "source": [
    "import numpy as np\n",
    "import tensorflow as tf\n",
    "import tensorflow as tf\n",
    "from tensorflow import keras\n",
    "print(tf.__version__)\n",
    "\n",
    "print(keras.__version__)\n",
    "from numpy.random import seed\n",
    "seed(123)"
   ]
  },
  {
   "cell_type": "code",
   "execution_count": 3,
   "metadata": {
    "colab": {
     "base_uri": "https://localhost:8080/",
     "height": 148
    },
    "colab_type": "code",
    "id": "g6d9fDvA17iP",
    "outputId": "1ce47f36-085b-45fe-b022-01faeee09433"
   },
   "outputs": [
    {
     "name": "stdout",
     "output_type": "stream",
     "text": [
      "/content/drive\n",
      "Go to this URL in a browser: https://accounts.google.com/o/oauth2/auth?client_id=947318989803-6bn6qk8qdgf4n4g3pfee6491hc0brc4i.apps.googleusercontent.com&redirect_uri=urn%3aietf%3awg%3aoauth%3a2.0%3aoob&response_type=code&scope=email%20https%3a%2f%2fwww.googleapis.com%2fauth%2fdocs.test%20https%3a%2f%2fwww.googleapis.com%2fauth%2fdrive%20https%3a%2f%2fwww.googleapis.com%2fauth%2fdrive.photos.readonly%20https%3a%2f%2fwww.googleapis.com%2fauth%2fpeopleapi.readonly\n",
      "\n",
      "Enter your authorization code:\n",
      "··········\n",
      "Mounted at /content/drive\n"
     ]
    }
   ],
   "source": [
    "# Mount Google Drive\n",
    "from google.colab import drive # import drive from google colab\n",
    "\n",
    "ROOT = \"/content/drive\"     # default location for the drive\n",
    "print(ROOT)                 # print content of ROOT (Optional)\n",
    "\n",
    "drive.mount(ROOT)           # we mount the google drive at /content/drive"
   ]
  },
  {
   "cell_type": "code",
   "execution_count": 4,
   "metadata": {
    "colab": {
     "base_uri": "https://localhost:8080/",
     "height": 36
    },
    "colab_type": "code",
    "id": "_0T060EY2Dmx",
    "outputId": "b30afda3-9040-46a9-89a5-3f88136477e9"
   },
   "outputs": [
    {
     "name": "stdout",
     "output_type": "stream",
     "text": [
      "/content/drive/My Drive\n"
     ]
    }
   ],
   "source": [
    "%cd drive/My\\ Drive"
   ]
  },
  {
   "cell_type": "markdown",
   "metadata": {
    "colab_type": "text",
    "id": "fV0QLYg31v8i"
   },
   "source": [
    "# Zad\n",
    "Porównaj wyniki działań różnych optymalizacji\n",
    "* \n",
    "```python\n",
    "sgd = keras.optimizers.SGD(lr=0.01, decay=1e-6, momentum=0.9, nesterov=False)\n",
    "```\n",
    "* \n",
    "```python\n",
    "sgd = keras.optimizers.SGD(lr=0.01, decay=1e-6, momentum=0.9, nesterov=True)\n",
    "```\n",
    "* \n",
    "```python\n",
    "RMSprop = keras.optimizers.RMSprop(learning_rate=0.001, rho=0.9)\n",
    "```\n",
    "* \n",
    "```python\n",
    "Adagrad = keras.optimizers.Adagrad(learning_rate=0.01)\n",
    "```\n",
    "* \n",
    "```python\n",
    "Adadelta = keras.optimizers.Adadelta(learning_rate=1.0, rho=0.95)\n",
    "```\n",
    "* \n",
    "```python\n",
    "Adam = keras.optimizers.Adam(learning_rate=0.001, beta_1=0.9, beta_2=0.999, amsgrad=False)\n",
    "```\n",
    "* \n",
    "```python\n",
    "Adam = keras.optimizers.Adam(learning_rate=0.0001, beta_1=0.9, beta_2=0.999, amsgrad=False)\n",
    "```\n",
    "\n",
    "https://keras.io/optimizers/"
   ]
  },
  {
   "cell_type": "code",
   "execution_count": 5,
   "metadata": {
    "colab": {
     "base_uri": "https://localhost:8080/",
     "height": 300
    },
    "colab_type": "code",
    "id": "5pGYgiTN1v8k",
    "outputId": "c7cb4b9f-1fa7-47e0-8830-12033696c813"
   },
   "outputs": [
    {
     "name": "stderr",
     "output_type": "stream",
     "text": [
      "/usr/local/lib/python3.6/dist-packages/ipykernel_launcher.py:6: ParserWarning: Falling back to the 'python' engine because the 'c' engine does not support regex separators (separators > 1 char and different from '\\s+' are interpreted as regex); you can avoid this warning by specifying engine='python'.\n",
      "  \n",
      "/usr/local/lib/python3.6/dist-packages/ipykernel_launcher.py:7: ParserWarning: Falling back to the 'python' engine because the 'c' engine does not support regex separators (separators > 1 char and different from '\\s+' are interpreted as regex); you can avoid this warning by specifying engine='python'.\n",
      "  import sys\n"
     ]
    },
    {
     "data": {
      "text/html": [
       "<div>\n",
       "<style scoped>\n",
       "    .dataframe tbody tr th:only-of-type {\n",
       "        vertical-align: middle;\n",
       "    }\n",
       "\n",
       "    .dataframe tbody tr th {\n",
       "        vertical-align: top;\n",
       "    }\n",
       "\n",
       "    .dataframe thead th {\n",
       "        text-align: right;\n",
       "    }\n",
       "</style>\n",
       "<table border=\"1\" class=\"dataframe\">\n",
       "  <thead>\n",
       "    <tr style=\"text-align: right;\">\n",
       "      <th></th>\n",
       "      <th>age</th>\n",
       "      <th>workclass</th>\n",
       "      <th>fnlwgt</th>\n",
       "      <th>education</th>\n",
       "      <th>education_num</th>\n",
       "      <th>marital_status</th>\n",
       "      <th>occupation</th>\n",
       "      <th>relationship</th>\n",
       "      <th>race</th>\n",
       "      <th>sex</th>\n",
       "      <th>capital_gain</th>\n",
       "      <th>capital_loss</th>\n",
       "      <th>hours_per_week</th>\n",
       "      <th>native_country</th>\n",
       "      <th>wage_class</th>\n",
       "    </tr>\n",
       "  </thead>\n",
       "  <tbody>\n",
       "    <tr>\n",
       "      <th>0</th>\n",
       "      <td>39</td>\n",
       "      <td>State-gov</td>\n",
       "      <td>77516</td>\n",
       "      <td>Bachelors</td>\n",
       "      <td>13</td>\n",
       "      <td>Never-married</td>\n",
       "      <td>Adm-clerical</td>\n",
       "      <td>Not-in-family</td>\n",
       "      <td>White</td>\n",
       "      <td>Male</td>\n",
       "      <td>2174</td>\n",
       "      <td>0</td>\n",
       "      <td>40</td>\n",
       "      <td>United-States</td>\n",
       "      <td>&lt;=50K</td>\n",
       "    </tr>\n",
       "    <tr>\n",
       "      <th>1</th>\n",
       "      <td>50</td>\n",
       "      <td>Self-emp-not-inc</td>\n",
       "      <td>83311</td>\n",
       "      <td>Bachelors</td>\n",
       "      <td>13</td>\n",
       "      <td>Married-civ-spouse</td>\n",
       "      <td>Exec-managerial</td>\n",
       "      <td>Husband</td>\n",
       "      <td>White</td>\n",
       "      <td>Male</td>\n",
       "      <td>0</td>\n",
       "      <td>0</td>\n",
       "      <td>13</td>\n",
       "      <td>United-States</td>\n",
       "      <td>&lt;=50K</td>\n",
       "    </tr>\n",
       "    <tr>\n",
       "      <th>2</th>\n",
       "      <td>38</td>\n",
       "      <td>Private</td>\n",
       "      <td>215646</td>\n",
       "      <td>HS-grad</td>\n",
       "      <td>9</td>\n",
       "      <td>Divorced</td>\n",
       "      <td>Handlers-cleaners</td>\n",
       "      <td>Not-in-family</td>\n",
       "      <td>White</td>\n",
       "      <td>Male</td>\n",
       "      <td>0</td>\n",
       "      <td>0</td>\n",
       "      <td>40</td>\n",
       "      <td>United-States</td>\n",
       "      <td>&lt;=50K</td>\n",
       "    </tr>\n",
       "    <tr>\n",
       "      <th>3</th>\n",
       "      <td>53</td>\n",
       "      <td>Private</td>\n",
       "      <td>234721</td>\n",
       "      <td>11th</td>\n",
       "      <td>7</td>\n",
       "      <td>Married-civ-spouse</td>\n",
       "      <td>Handlers-cleaners</td>\n",
       "      <td>Husband</td>\n",
       "      <td>Black</td>\n",
       "      <td>Male</td>\n",
       "      <td>0</td>\n",
       "      <td>0</td>\n",
       "      <td>40</td>\n",
       "      <td>United-States</td>\n",
       "      <td>&lt;=50K</td>\n",
       "    </tr>\n",
       "    <tr>\n",
       "      <th>4</th>\n",
       "      <td>28</td>\n",
       "      <td>Private</td>\n",
       "      <td>338409</td>\n",
       "      <td>Bachelors</td>\n",
       "      <td>13</td>\n",
       "      <td>Married-civ-spouse</td>\n",
       "      <td>Prof-specialty</td>\n",
       "      <td>Wife</td>\n",
       "      <td>Black</td>\n",
       "      <td>Female</td>\n",
       "      <td>0</td>\n",
       "      <td>0</td>\n",
       "      <td>40</td>\n",
       "      <td>Cuba</td>\n",
       "      <td>&lt;=50K</td>\n",
       "    </tr>\n",
       "  </tbody>\n",
       "</table>\n",
       "</div>"
      ],
      "text/plain": [
       "   age         workclass  fnlwgt  ... hours_per_week  native_country wage_class\n",
       "0   39         State-gov   77516  ...             40   United-States      <=50K\n",
       "1   50  Self-emp-not-inc   83311  ...             13   United-States      <=50K\n",
       "2   38           Private  215646  ...             40   United-States      <=50K\n",
       "3   53           Private  234721  ...             40   United-States      <=50K\n",
       "4   28           Private  338409  ...             40            Cuba      <=50K\n",
       "\n",
       "[5 rows x 15 columns]"
      ]
     },
     "execution_count": 5,
     "metadata": {
      "tags": []
     },
     "output_type": "execute_result"
    }
   ],
   "source": [
    "# Wczytaj dane treningowe i testowe\n",
    "import numpy as np\n",
    "import matplotlib.pyplot as plt\n",
    "import pandas as pd\n",
    "\n",
    "train_set = pd.read_csv('Dane/adult/adult.data', sep=\", \",header = None)\n",
    "test_set = pd.read_csv('Dane/adult/adult.test', sep=\", \",skiprows = 1, header = None) # Make sure to skip a row for the test set\n",
    "\n",
    "col_labels = ['age', 'workclass', 'fnlwgt', 'education', 'education_num', 'marital_status', 'occupation', \n",
    "              'relationship', 'race', 'sex', 'capital_gain', 'capital_loss', 'hours_per_week', 'native_country',\n",
    "             'wage_class']\n",
    "train_set.columns = col_labels\n",
    "test_set.columns = col_labels\n",
    "\n",
    "train = train_set.replace('?', np.nan).dropna()\n",
    "test = test_set.replace('?', np.nan).dropna()\n",
    "\n",
    "train_set.head()\n"
   ]
  },
  {
   "cell_type": "code",
   "execution_count": 6,
   "metadata": {
    "colab": {
     "base_uri": "https://localhost:8080/",
     "height": 54
    },
    "colab_type": "code",
    "id": "jO38Fho01v8u",
    "outputId": "ffac8ed4-d0a4-4162-f1b8-491b345384eb"
   },
   "outputs": [
    {
     "name": "stdout",
     "output_type": "stream",
     "text": [
      "(30162, 41)\n"
     ]
    },
    {
     "data": {
      "text/plain": [
       "(15060, 41)"
      ]
     },
     "execution_count": 6,
     "metadata": {
      "tags": []
     },
     "output_type": "execute_result"
    }
   ],
   "source": [
    "\n",
    "\n",
    "\n",
    "\n",
    "dataset = pd.concat([train,test])\n",
    "\n",
    "dataset['wage_class'] = dataset.wage_class.replace({'<=50K.': 0,'<=50K':0, '>50K.':1, '>50K':1})\n",
    "\n",
    "dataset.drop([\"fnlwgt\"],axis=1,inplace=True)\n",
    "\n",
    "dataset.drop([\"education\"],axis=1,inplace=True)\n",
    "\n",
    "x = dataset.groupby('native_country')[\"wage_class\"].mean()\n",
    "\n",
    "d = dict(pd.cut(x[x.index!=\" United-States\"],5,labels=range(5)))\n",
    "\n",
    "dataset['native_country'] = dataset['native_country'].replace(d)\n",
    "\n",
    "dataset = pd.get_dummies(dataset,drop_first=True)\n",
    "\n",
    "train = dataset.iloc[:train.shape[0]]\n",
    "test = dataset.iloc[train.shape[0]:]\n",
    "\n",
    "X_train = train.drop(\"wage_class\",axis=1)\n",
    "y_train = train.wage_class\n",
    "\n",
    "X_test = test.drop(\"wage_class\",axis=1)\n",
    "y_test = test.wage_class\n",
    "\n",
    "from sklearn.preprocessing import StandardScaler\n",
    "sc = StandardScaler()\n",
    "X_train = sc.fit_transform(X_train)\n",
    "X_test = sc.transform(X_test)\n",
    "\n",
    "print(X_train.shape)\n",
    "X_test.shape"
   ]
  },
  {
   "cell_type": "markdown",
   "metadata": {
    "colab_type": "text",
    "id": "zz8FdcUY1v82"
   },
   "source": [
    "# SGD"
   ]
  },
  {
   "cell_type": "code",
   "execution_count": 7,
   "metadata": {
    "colab": {
     "base_uri": "https://localhost:8080/",
     "height": 332
    },
    "colab_type": "code",
    "id": "_7zlDxKX1v83",
    "outputId": "dfd447a6-5ef6-4531-d098-2d527c62da10"
   },
   "outputs": [
    {
     "name": "stderr",
     "output_type": "stream",
     "text": [
      "Using TensorFlow backend.\n"
     ]
    },
    {
     "name": "stdout",
     "output_type": "stream",
     "text": [
      "Model: \"sequential_1\"\n",
      "_________________________________________________________________\n",
      "Layer (type)                 Output Shape              Param #   \n",
      "=================================================================\n",
      "dense_1 (Dense)              (None, 100)               4200      \n",
      "_________________________________________________________________\n",
      "dense_2 (Dense)              (None, 50)                5050      \n",
      "_________________________________________________________________\n",
      "dense_3 (Dense)              (None, 10)                510       \n",
      "_________________________________________________________________\n",
      "dense_4 (Dense)              (None, 1)                 11        \n",
      "=================================================================\n",
      "Total params: 9,771\n",
      "Trainable params: 9,771\n",
      "Non-trainable params: 0\n",
      "_________________________________________________________________\n"
     ]
    }
   ],
   "source": [
    "from keras.models import Sequential\n",
    "from keras.layers import Dense\n",
    "\n",
    "from keras.callbacks import History\n",
    "\n",
    "history_sgd = History()\n",
    "model = Sequential()\n",
    "model.add(Dense(100,activation=\"sigmoid\",input_shape=(X_train.shape[1],)))\n",
    "model.add(Dense(50,activation=\"sigmoid\"))\n",
    "model.add(Dense(10,activation=\"sigmoid\"))\n",
    "model.add(Dense(1,activation=\"sigmoid\"))\n",
    "model.summary()"
   ]
  },
  {
   "cell_type": "code",
   "execution_count": 0,
   "metadata": {
    "colab": {},
    "colab_type": "code",
    "id": "gx_IPtVH1v8-"
   },
   "outputs": [],
   "source": [
    "sgd = keras.optimizers.SGD(lr=0.01, decay=1e-6, momentum=0.9, nesterov=True)\n",
    "model.compile(loss=\"binary_crossentropy\",optimizer=sgd, metrics=[\"accuracy\"])"
   ]
  },
  {
   "cell_type": "code",
   "execution_count": 9,
   "metadata": {
    "colab": {
     "base_uri": "https://localhost:8080/",
     "height": 1000
    },
    "colab_type": "code",
    "id": "tTJKpYuO1v9E",
    "outputId": "2c07619c-8de5-4e63-8c61-2b587905c647"
   },
   "outputs": [
    {
     "name": "stdout",
     "output_type": "stream",
     "text": [
      "Train on 30162 samples, validate on 15060 samples\n",
      "Epoch 1/100\n",
      "30162/30162 [==============================] - 2s 57us/step - loss: 0.5327 - accuracy: 0.7517 - val_loss: 0.4264 - val_accuracy: 0.7808\n",
      "Epoch 2/100\n",
      "30162/30162 [==============================] - 1s 50us/step - loss: 0.3604 - accuracy: 0.8292 - val_loss: 0.3446 - val_accuracy: 0.8350\n",
      "Epoch 3/100\n",
      "30162/30162 [==============================] - 1s 49us/step - loss: 0.3392 - accuracy: 0.8394 - val_loss: 0.3351 - val_accuracy: 0.8435\n",
      "Epoch 4/100\n",
      "30162/30162 [==============================] - 1s 49us/step - loss: 0.3335 - accuracy: 0.8436 - val_loss: 0.3337 - val_accuracy: 0.8427\n",
      "Epoch 5/100\n",
      "30162/30162 [==============================] - 1s 49us/step - loss: 0.3305 - accuracy: 0.8438 - val_loss: 0.3290 - val_accuracy: 0.8461\n",
      "Epoch 6/100\n",
      "30162/30162 [==============================] - 2s 52us/step - loss: 0.3289 - accuracy: 0.8460 - val_loss: 0.3285 - val_accuracy: 0.8475\n",
      "Epoch 7/100\n",
      "30162/30162 [==============================] - 2s 51us/step - loss: 0.3270 - accuracy: 0.8453 - val_loss: 0.3284 - val_accuracy: 0.8463\n",
      "Epoch 8/100\n",
      "30162/30162 [==============================] - 2s 51us/step - loss: 0.3263 - accuracy: 0.8467 - val_loss: 0.3280 - val_accuracy: 0.8464\n",
      "Epoch 9/100\n",
      "30162/30162 [==============================] - 2s 51us/step - loss: 0.3254 - accuracy: 0.8466 - val_loss: 0.3267 - val_accuracy: 0.8472\n",
      "Epoch 10/100\n",
      "30162/30162 [==============================] - 2s 51us/step - loss: 0.3245 - accuracy: 0.8471 - val_loss: 0.3279 - val_accuracy: 0.8460\n",
      "Epoch 11/100\n",
      "30162/30162 [==============================] - 1s 49us/step - loss: 0.3244 - accuracy: 0.8472 - val_loss: 0.3250 - val_accuracy: 0.8466\n",
      "Epoch 12/100\n",
      "30162/30162 [==============================] - 1s 50us/step - loss: 0.3229 - accuracy: 0.8472 - val_loss: 0.3260 - val_accuracy: 0.8476\n",
      "Epoch 13/100\n",
      "30162/30162 [==============================] - 1s 49us/step - loss: 0.3221 - accuracy: 0.8483 - val_loss: 0.3252 - val_accuracy: 0.8475\n",
      "Epoch 14/100\n",
      "30162/30162 [==============================] - 1s 49us/step - loss: 0.3217 - accuracy: 0.8494 - val_loss: 0.3284 - val_accuracy: 0.8466\n",
      "Epoch 15/100\n",
      "30162/30162 [==============================] - 1s 49us/step - loss: 0.3207 - accuracy: 0.8496 - val_loss: 0.3229 - val_accuracy: 0.8473\n",
      "Epoch 16/100\n",
      "30162/30162 [==============================] - 2s 50us/step - loss: 0.3202 - accuracy: 0.8503 - val_loss: 0.3226 - val_accuracy: 0.8480\n",
      "Epoch 17/100\n",
      "30162/30162 [==============================] - 1s 49us/step - loss: 0.3195 - accuracy: 0.8500 - val_loss: 0.3218 - val_accuracy: 0.8485\n",
      "Epoch 18/100\n",
      "30162/30162 [==============================] - 1s 50us/step - loss: 0.3190 - accuracy: 0.8506 - val_loss: 0.3219 - val_accuracy: 0.8485\n",
      "Epoch 19/100\n",
      "30162/30162 [==============================] - 1s 49us/step - loss: 0.3188 - accuracy: 0.8502 - val_loss: 0.3216 - val_accuracy: 0.8482\n",
      "Epoch 20/100\n",
      "30162/30162 [==============================] - 1s 50us/step - loss: 0.3176 - accuracy: 0.8518 - val_loss: 0.3221 - val_accuracy: 0.8489\n",
      "Epoch 21/100\n",
      "30162/30162 [==============================] - 1s 48us/step - loss: 0.3177 - accuracy: 0.8502 - val_loss: 0.3206 - val_accuracy: 0.8488\n",
      "Epoch 22/100\n",
      "30162/30162 [==============================] - 1s 48us/step - loss: 0.3169 - accuracy: 0.8514 - val_loss: 0.3220 - val_accuracy: 0.8491\n",
      "Epoch 23/100\n",
      "30162/30162 [==============================] - 1s 49us/step - loss: 0.3165 - accuracy: 0.8511 - val_loss: 0.3225 - val_accuracy: 0.8469\n",
      "Epoch 24/100\n",
      "30162/30162 [==============================] - 1s 49us/step - loss: 0.3159 - accuracy: 0.8518 - val_loss: 0.3211 - val_accuracy: 0.8484\n",
      "Epoch 25/100\n",
      "30162/30162 [==============================] - 1s 49us/step - loss: 0.3157 - accuracy: 0.8514 - val_loss: 0.3211 - val_accuracy: 0.8494\n",
      "Epoch 26/100\n",
      "30162/30162 [==============================] - 1s 49us/step - loss: 0.3151 - accuracy: 0.8523 - val_loss: 0.3210 - val_accuracy: 0.8495\n",
      "Epoch 27/100\n",
      "30162/30162 [==============================] - 2s 50us/step - loss: 0.3149 - accuracy: 0.8516 - val_loss: 0.3223 - val_accuracy: 0.8470\n",
      "Epoch 28/100\n",
      "30162/30162 [==============================] - 1s 49us/step - loss: 0.3139 - accuracy: 0.8510 - val_loss: 0.3223 - val_accuracy: 0.8477\n",
      "Epoch 29/100\n",
      "30162/30162 [==============================] - 1s 49us/step - loss: 0.3137 - accuracy: 0.8512 - val_loss: 0.3189 - val_accuracy: 0.8504\n",
      "Epoch 30/100\n",
      "30162/30162 [==============================] - 1s 48us/step - loss: 0.3131 - accuracy: 0.8521 - val_loss: 0.3249 - val_accuracy: 0.8448\n",
      "Epoch 31/100\n",
      "30162/30162 [==============================] - 1s 49us/step - loss: 0.3130 - accuracy: 0.8532 - val_loss: 0.3204 - val_accuracy: 0.8478\n",
      "Epoch 32/100\n",
      "30162/30162 [==============================] - 1s 49us/step - loss: 0.3126 - accuracy: 0.8525 - val_loss: 0.3191 - val_accuracy: 0.8497\n",
      "Epoch 33/100\n",
      "30162/30162 [==============================] - 1s 48us/step - loss: 0.3117 - accuracy: 0.8530 - val_loss: 0.3313 - val_accuracy: 0.8390\n",
      "Epoch 34/100\n",
      "30162/30162 [==============================] - 1s 49us/step - loss: 0.3115 - accuracy: 0.8536 - val_loss: 0.3245 - val_accuracy: 0.8453\n",
      "Epoch 35/100\n",
      "30162/30162 [==============================] - 1s 49us/step - loss: 0.3110 - accuracy: 0.8537 - val_loss: 0.3179 - val_accuracy: 0.8513\n",
      "Epoch 36/100\n",
      "30162/30162 [==============================] - 2s 50us/step - loss: 0.3114 - accuracy: 0.8539 - val_loss: 0.3212 - val_accuracy: 0.8482\n",
      "Epoch 37/100\n",
      "30162/30162 [==============================] - 1s 49us/step - loss: 0.3100 - accuracy: 0.8535 - val_loss: 0.3190 - val_accuracy: 0.8488\n",
      "Epoch 38/100\n",
      "30162/30162 [==============================] - 2s 50us/step - loss: 0.3101 - accuracy: 0.8537 - val_loss: 0.3198 - val_accuracy: 0.8493\n",
      "Epoch 39/100\n",
      "30162/30162 [==============================] - 1s 48us/step - loss: 0.3095 - accuracy: 0.8547 - val_loss: 0.3180 - val_accuracy: 0.8501\n",
      "Epoch 40/100\n",
      "30162/30162 [==============================] - 1s 49us/step - loss: 0.3095 - accuracy: 0.8548 - val_loss: 0.3181 - val_accuracy: 0.8519\n",
      "Epoch 41/100\n",
      "30162/30162 [==============================] - 2s 50us/step - loss: 0.3092 - accuracy: 0.8554 - val_loss: 0.3178 - val_accuracy: 0.8521\n",
      "Epoch 42/100\n",
      "30162/30162 [==============================] - 1s 48us/step - loss: 0.3082 - accuracy: 0.8552 - val_loss: 0.3259 - val_accuracy: 0.8452\n",
      "Epoch 43/100\n",
      "30162/30162 [==============================] - 1s 49us/step - loss: 0.3082 - accuracy: 0.8564 - val_loss: 0.3182 - val_accuracy: 0.8513\n",
      "Epoch 44/100\n",
      "30162/30162 [==============================] - 1s 49us/step - loss: 0.3083 - accuracy: 0.8544 - val_loss: 0.3186 - val_accuracy: 0.8501\n",
      "Epoch 45/100\n",
      "30162/30162 [==============================] - 1s 48us/step - loss: 0.3077 - accuracy: 0.8552 - val_loss: 0.3183 - val_accuracy: 0.8505\n",
      "Epoch 46/100\n",
      "30162/30162 [==============================] - 1s 49us/step - loss: 0.3069 - accuracy: 0.8558 - val_loss: 0.3177 - val_accuracy: 0.8518\n",
      "Epoch 47/100\n",
      "30162/30162 [==============================] - 1s 49us/step - loss: 0.3068 - accuracy: 0.8559 - val_loss: 0.3204 - val_accuracy: 0.8501\n",
      "Epoch 48/100\n",
      "30162/30162 [==============================] - 1s 49us/step - loss: 0.3068 - accuracy: 0.8570 - val_loss: 0.3180 - val_accuracy: 0.8509\n",
      "Epoch 49/100\n",
      "30162/30162 [==============================] - 1s 48us/step - loss: 0.3063 - accuracy: 0.8555 - val_loss: 0.3189 - val_accuracy: 0.8512\n",
      "Epoch 50/100\n",
      "30162/30162 [==============================] - 1s 49us/step - loss: 0.3061 - accuracy: 0.8560 - val_loss: 0.3175 - val_accuracy: 0.8505\n",
      "Epoch 51/100\n",
      "30162/30162 [==============================] - 1s 49us/step - loss: 0.3059 - accuracy: 0.8555 - val_loss: 0.3200 - val_accuracy: 0.8498\n",
      "Epoch 52/100\n",
      "30162/30162 [==============================] - 1s 49us/step - loss: 0.3054 - accuracy: 0.8561 - val_loss: 0.3207 - val_accuracy: 0.8507\n",
      "Epoch 53/100\n",
      "30162/30162 [==============================] - 1s 48us/step - loss: 0.3051 - accuracy: 0.8560 - val_loss: 0.3188 - val_accuracy: 0.8507\n",
      "Epoch 54/100\n",
      "30162/30162 [==============================] - 1s 49us/step - loss: 0.3050 - accuracy: 0.8572 - val_loss: 0.3191 - val_accuracy: 0.8505\n",
      "Epoch 55/100\n",
      "30162/30162 [==============================] - 1s 49us/step - loss: 0.3046 - accuracy: 0.8579 - val_loss: 0.3198 - val_accuracy: 0.8505\n",
      "Epoch 56/100\n",
      "30162/30162 [==============================] - 1s 49us/step - loss: 0.3044 - accuracy: 0.8569 - val_loss: 0.3189 - val_accuracy: 0.8503\n",
      "Epoch 57/100\n",
      "30162/30162 [==============================] - 1s 49us/step - loss: 0.3039 - accuracy: 0.8572 - val_loss: 0.3202 - val_accuracy: 0.8505\n",
      "Epoch 58/100\n",
      "30162/30162 [==============================] - 1s 49us/step - loss: 0.3033 - accuracy: 0.8578 - val_loss: 0.3193 - val_accuracy: 0.8508\n",
      "Epoch 59/100\n",
      "30162/30162 [==============================] - 1s 49us/step - loss: 0.3039 - accuracy: 0.8574 - val_loss: 0.3189 - val_accuracy: 0.8499\n",
      "Epoch 60/100\n",
      "30162/30162 [==============================] - 1s 49us/step - loss: 0.3034 - accuracy: 0.8575 - val_loss: 0.3278 - val_accuracy: 0.8420\n",
      "Epoch 61/100\n",
      "30162/30162 [==============================] - 1s 49us/step - loss: 0.3030 - accuracy: 0.8573 - val_loss: 0.3195 - val_accuracy: 0.8489\n",
      "Epoch 62/100\n",
      "30162/30162 [==============================] - 1s 50us/step - loss: 0.3024 - accuracy: 0.8593 - val_loss: 0.3232 - val_accuracy: 0.8490\n",
      "Epoch 63/100\n",
      "30162/30162 [==============================] - 1s 48us/step - loss: 0.3023 - accuracy: 0.8587 - val_loss: 0.3233 - val_accuracy: 0.8501\n",
      "Epoch 64/100\n",
      "30162/30162 [==============================] - 1s 49us/step - loss: 0.3021 - accuracy: 0.8586 - val_loss: 0.3201 - val_accuracy: 0.8495\n",
      "Epoch 65/100\n",
      "30162/30162 [==============================] - 1s 50us/step - loss: 0.3017 - accuracy: 0.8590 - val_loss: 0.3197 - val_accuracy: 0.8517\n",
      "Epoch 66/100\n",
      "30162/30162 [==============================] - 1s 49us/step - loss: 0.3018 - accuracy: 0.8593 - val_loss: 0.3203 - val_accuracy: 0.8502\n",
      "Epoch 67/100\n",
      "30162/30162 [==============================] - 1s 49us/step - loss: 0.3015 - accuracy: 0.8579 - val_loss: 0.3259 - val_accuracy: 0.8504\n",
      "Epoch 68/100\n",
      "30162/30162 [==============================] - 1s 49us/step - loss: 0.3004 - accuracy: 0.8584 - val_loss: 0.3222 - val_accuracy: 0.8498\n",
      "Epoch 69/100\n",
      "30162/30162 [==============================] - 1s 49us/step - loss: 0.3010 - accuracy: 0.8596 - val_loss: 0.3223 - val_accuracy: 0.8480\n",
      "Epoch 70/100\n",
      "30162/30162 [==============================] - 1s 49us/step - loss: 0.3007 - accuracy: 0.8585 - val_loss: 0.3216 - val_accuracy: 0.8492\n",
      "Epoch 71/100\n",
      "30162/30162 [==============================] - 1s 50us/step - loss: 0.3005 - accuracy: 0.8587 - val_loss: 0.3209 - val_accuracy: 0.8497\n",
      "Epoch 72/100\n",
      "30162/30162 [==============================] - 1s 50us/step - loss: 0.3000 - accuracy: 0.8586 - val_loss: 0.3218 - val_accuracy: 0.8489\n",
      "Epoch 73/100\n",
      "30162/30162 [==============================] - 2s 50us/step - loss: 0.2998 - accuracy: 0.8584 - val_loss: 0.3223 - val_accuracy: 0.8489\n",
      "Epoch 74/100\n",
      "30162/30162 [==============================] - 1s 48us/step - loss: 0.3001 - accuracy: 0.8589 - val_loss: 0.3209 - val_accuracy: 0.8505\n",
      "Epoch 75/100\n",
      "30162/30162 [==============================] - 1s 48us/step - loss: 0.2997 - accuracy: 0.8592 - val_loss: 0.3226 - val_accuracy: 0.8487\n",
      "Epoch 76/100\n",
      "30162/30162 [==============================] - 1s 49us/step - loss: 0.2993 - accuracy: 0.8595 - val_loss: 0.3232 - val_accuracy: 0.8477\n",
      "Epoch 77/100\n",
      "30162/30162 [==============================] - 1s 49us/step - loss: 0.2986 - accuracy: 0.8591 - val_loss: 0.3248 - val_accuracy: 0.8487\n",
      "Epoch 78/100\n",
      "30162/30162 [==============================] - 1s 49us/step - loss: 0.2985 - accuracy: 0.8590 - val_loss: 0.3261 - val_accuracy: 0.8484\n",
      "Epoch 79/100\n",
      "30162/30162 [==============================] - 1s 49us/step - loss: 0.2980 - accuracy: 0.8602 - val_loss: 0.3318 - val_accuracy: 0.8474\n",
      "Epoch 80/100\n",
      "30162/30162 [==============================] - 1s 49us/step - loss: 0.2981 - accuracy: 0.8611 - val_loss: 0.3229 - val_accuracy: 0.8493\n",
      "Epoch 81/100\n",
      "30162/30162 [==============================] - 2s 50us/step - loss: 0.2983 - accuracy: 0.8602 - val_loss: 0.3238 - val_accuracy: 0.8490\n",
      "Epoch 82/100\n",
      "30162/30162 [==============================] - 2s 50us/step - loss: 0.2975 - accuracy: 0.8603 - val_loss: 0.3239 - val_accuracy: 0.8503\n",
      "Epoch 83/100\n",
      "30162/30162 [==============================] - 1s 49us/step - loss: 0.2979 - accuracy: 0.8604 - val_loss: 0.3243 - val_accuracy: 0.8477\n",
      "Epoch 84/100\n",
      "30162/30162 [==============================] - 1s 49us/step - loss: 0.2969 - accuracy: 0.8610 - val_loss: 0.3242 - val_accuracy: 0.8493\n",
      "Epoch 85/100\n",
      "30162/30162 [==============================] - 1s 49us/step - loss: 0.2966 - accuracy: 0.8615 - val_loss: 0.3264 - val_accuracy: 0.8480\n",
      "Epoch 86/100\n",
      "30162/30162 [==============================] - 1s 48us/step - loss: 0.2967 - accuracy: 0.8617 - val_loss: 0.3229 - val_accuracy: 0.8500\n",
      "Epoch 87/100\n",
      "30162/30162 [==============================] - 1s 49us/step - loss: 0.2962 - accuracy: 0.8605 - val_loss: 0.3235 - val_accuracy: 0.8485\n",
      "Epoch 88/100\n",
      "30162/30162 [==============================] - 1s 49us/step - loss: 0.2958 - accuracy: 0.8608 - val_loss: 0.3274 - val_accuracy: 0.8483\n",
      "Epoch 89/100\n",
      "30162/30162 [==============================] - 1s 49us/step - loss: 0.2958 - accuracy: 0.8605 - val_loss: 0.3248 - val_accuracy: 0.8481\n",
      "Epoch 90/100\n",
      "30162/30162 [==============================] - 2s 50us/step - loss: 0.2961 - accuracy: 0.8610 - val_loss: 0.3252 - val_accuracy: 0.8481\n",
      "Epoch 91/100\n",
      "30162/30162 [==============================] - 1s 50us/step - loss: 0.2954 - accuracy: 0.8611 - val_loss: 0.3261 - val_accuracy: 0.8501\n",
      "Epoch 92/100\n",
      "30162/30162 [==============================] - 1s 48us/step - loss: 0.2952 - accuracy: 0.8611 - val_loss: 0.3255 - val_accuracy: 0.8475\n",
      "Epoch 93/100\n",
      "30162/30162 [==============================] - 1s 49us/step - loss: 0.2945 - accuracy: 0.8613 - val_loss: 0.3245 - val_accuracy: 0.8478\n",
      "Epoch 94/100\n",
      "30162/30162 [==============================] - 1s 49us/step - loss: 0.2941 - accuracy: 0.8621 - val_loss: 0.3261 - val_accuracy: 0.8504\n",
      "Epoch 95/100\n",
      "30162/30162 [==============================] - 1s 49us/step - loss: 0.2942 - accuracy: 0.8620 - val_loss: 0.3280 - val_accuracy: 0.8453\n",
      "Epoch 96/100\n",
      "30162/30162 [==============================] - 1s 49us/step - loss: 0.2940 - accuracy: 0.8615 - val_loss: 0.3362 - val_accuracy: 0.8388\n",
      "Epoch 97/100\n",
      "30162/30162 [==============================] - 1s 50us/step - loss: 0.2935 - accuracy: 0.8624 - val_loss: 0.3271 - val_accuracy: 0.8461\n",
      "Epoch 98/100\n",
      "30162/30162 [==============================] - 2s 50us/step - loss: 0.2931 - accuracy: 0.8611 - val_loss: 0.3282 - val_accuracy: 0.8483\n",
      "Epoch 99/100\n",
      "30162/30162 [==============================] - 2s 50us/step - loss: 0.2924 - accuracy: 0.8616 - val_loss: 0.3299 - val_accuracy: 0.8494\n",
      "Epoch 100/100\n",
      "30162/30162 [==============================] - 1s 48us/step - loss: 0.2928 - accuracy: 0.8630 - val_loss: 0.3263 - val_accuracy: 0.8485\n"
     ]
    },
    {
     "data": {
      "text/plain": [
       "<keras.callbacks.callbacks.History at 0x7f6856787550>"
      ]
     },
     "execution_count": 9,
     "metadata": {
      "tags": []
     },
     "output_type": "execute_result"
    }
   ],
   "source": [
    "model.fit(X_train, y_train, validation_data= (X_test, y_test), batch_size=32,epochs=100, callbacks=[history_sgd])"
   ]
  },
  {
   "cell_type": "code",
   "execution_count": 0,
   "metadata": {
    "colab": {},
    "colab_type": "code",
    "id": "cVfEb8dy1v9L",
    "outputId": "2c6d200a-cf2f-40d8-9969-c42c19851945"
   },
   "outputs": [
    {
     "data": {
      "text/plain": [
       "dict_keys(['val_loss', 'val_accuracy', 'loss', 'accuracy'])"
      ]
     },
     "execution_count": 8,
     "metadata": {
      "tags": []
     },
     "output_type": "execute_result"
    }
   ],
   "source": [
    "history_sgd.history.keys()"
   ]
  },
  {
   "cell_type": "code",
   "execution_count": 10,
   "metadata": {
    "colab": {
     "base_uri": "https://localhost:8080/",
     "height": 265
    },
    "colab_type": "code",
    "id": "H51b-0Rk1v9Q",
    "outputId": "2cedaa5e-6354-4496-cd1a-63983165ad8a"
   },
   "outputs": [
    {
     "data": {
      "image/png": "[encoded data removed]",
      "text/plain": [
       "<Figure size 432x288 with 1 Axes>"
      ]
     },
     "metadata": {
      "needs_background": "light",
      "tags": []
     },
     "output_type": "display_data"
    }
   ],
   "source": [
    "import matplotlib.pyplot as pl\n",
    "plt.plot(history_sgd.history['accuracy'], label = \"tarina\")\n",
    "plt.plot(history_sgd.history['val_accuracy'], label = \"test\")\n",
    "plt.legend()\n",
    "plt.show()"
   ]
  },
  {
   "cell_type": "code",
   "execution_count": 11,
   "metadata": {
    "colab": {
     "base_uri": "https://localhost:8080/",
     "height": 265
    },
    "colab_type": "code",
    "id": "BNf2Pohv1v9V",
    "outputId": "04bb57da-59d1-4c94-b4d7-c4f662f6ca77"
   },
   "outputs": [
    {
     "data": {
      "image/png": "[encoded data removed]",
      "text/plain": [
       "<Figure size 432x288 with 1 Axes>"
      ]
     },
     "metadata": {
      "needs_background": "light",
      "tags": []
     },
     "output_type": "display_data"
    }
   ],
   "source": [
    "import matplotlib.pyplot as pl\n",
    "plt.plot(history_sgd.history['loss'], label = \"tarina\")\n",
    "plt.plot(history_sgd.history['val_loss'], label = \"test\")\n",
    "plt.legend()\n",
    "plt.show()"
   ]
  },
  {
   "cell_type": "code",
   "execution_count": 0,
   "metadata": {
    "colab": {},
    "colab_type": "code",
    "id": "aM9iuqW12_qQ"
   },
   "outputs": [],
   "source": [
    "sgd_without_nesterov = keras.optimizers.SGD(lr=0.01, decay=1e-6, momentum=0.9, nesterov=True)\n",
    "model.compile(loss=\"binary_crossentropy\",optimizer=sgd_without_nesterov, metrics=[\"accuracy\"])"
   ]
  },
  {
   "cell_type": "code",
   "execution_count": 14,
   "metadata": {
    "colab": {
     "base_uri": "https://localhost:8080/",
     "height": 1000
    },
    "colab_type": "code",
    "id": "72Nh6ssR3FNf",
    "outputId": "89b1b2d1-e849-43c8-aae1-6d07de010213"
   },
   "outputs": [
    {
     "name": "stdout",
     "output_type": "stream",
     "text": [
      "Train on 30162 samples, validate on 15060 samples\n",
      "Epoch 1/100\n",
      "30162/30162 [==============================] - 2s 52us/step - loss: 0.2928 - accuracy: 0.8626 - val_loss: 0.3278 - val_accuracy: 0.8486\n",
      "Epoch 2/100\n",
      "30162/30162 [==============================] - 2s 52us/step - loss: 0.2924 - accuracy: 0.8620 - val_loss: 0.3299 - val_accuracy: 0.8458\n",
      "Epoch 3/100\n",
      "30162/30162 [==============================] - 2s 52us/step - loss: 0.2918 - accuracy: 0.8634 - val_loss: 0.3292 - val_accuracy: 0.8465\n",
      "Epoch 4/100\n",
      "30162/30162 [==============================] - 2s 51us/step - loss: 0.2918 - accuracy: 0.8640 - val_loss: 0.3279 - val_accuracy: 0.8465\n",
      "Epoch 5/100\n",
      "30162/30162 [==============================] - 1s 49us/step - loss: 0.2916 - accuracy: 0.8636 - val_loss: 0.3316 - val_accuracy: 0.8476\n",
      "Epoch 6/100\n",
      "30162/30162 [==============================] - 2s 50us/step - loss: 0.2913 - accuracy: 0.8623 - val_loss: 0.3281 - val_accuracy: 0.8491\n",
      "Epoch 7/100\n",
      "30162/30162 [==============================] - 1s 49us/step - loss: 0.2909 - accuracy: 0.8624 - val_loss: 0.3301 - val_accuracy: 0.8445\n",
      "Epoch 8/100\n",
      "30162/30162 [==============================] - 1s 49us/step - loss: 0.2906 - accuracy: 0.8636 - val_loss: 0.3288 - val_accuracy: 0.8473\n",
      "Epoch 9/100\n",
      "30162/30162 [==============================] - 1s 50us/step - loss: 0.2902 - accuracy: 0.8630 - val_loss: 0.3328 - val_accuracy: 0.8448\n",
      "Epoch 10/100\n",
      "30162/30162 [==============================] - 1s 49us/step - loss: 0.2904 - accuracy: 0.8646 - val_loss: 0.3301 - val_accuracy: 0.8483\n",
      "Epoch 11/100\n",
      "30162/30162 [==============================] - 1s 49us/step - loss: 0.2902 - accuracy: 0.8637 - val_loss: 0.3303 - val_accuracy: 0.8475\n",
      "Epoch 12/100\n",
      "30162/30162 [==============================] - 1s 50us/step - loss: 0.2898 - accuracy: 0.8643 - val_loss: 0.3302 - val_accuracy: 0.8471\n",
      "Epoch 13/100\n",
      "30162/30162 [==============================] - 2s 50us/step - loss: 0.2893 - accuracy: 0.8646 - val_loss: 0.3313 - val_accuracy: 0.8489\n",
      "Epoch 14/100\n",
      "30162/30162 [==============================] - 1s 49us/step - loss: 0.2888 - accuracy: 0.8631 - val_loss: 0.3407 - val_accuracy: 0.8474\n",
      "Epoch 15/100\n",
      "30162/30162 [==============================] - 2s 51us/step - loss: 0.2887 - accuracy: 0.8649 - val_loss: 0.3334 - val_accuracy: 0.8466\n",
      "Epoch 16/100\n",
      "30162/30162 [==============================] - 1s 50us/step - loss: 0.2883 - accuracy: 0.8648 - val_loss: 0.3328 - val_accuracy: 0.8469\n",
      "Epoch 17/100\n",
      "30162/30162 [==============================] - 1s 49us/step - loss: 0.2878 - accuracy: 0.8638 - val_loss: 0.3336 - val_accuracy: 0.8473\n",
      "Epoch 18/100\n",
      "30162/30162 [==============================] - 2s 51us/step - loss: 0.2875 - accuracy: 0.8659 - val_loss: 0.3355 - val_accuracy: 0.8416\n",
      "Epoch 19/100\n",
      "30162/30162 [==============================] - 2s 50us/step - loss: 0.2874 - accuracy: 0.8645 - val_loss: 0.3348 - val_accuracy: 0.8441\n",
      "Epoch 20/100\n",
      "30162/30162 [==============================] - 2s 50us/step - loss: 0.2873 - accuracy: 0.8645 - val_loss: 0.3325 - val_accuracy: 0.8464\n",
      "Epoch 21/100\n",
      "30162/30162 [==============================] - 2s 50us/step - loss: 0.2866 - accuracy: 0.8661 - val_loss: 0.3330 - val_accuracy: 0.8467\n",
      "Epoch 22/100\n",
      "30162/30162 [==============================] - 2s 50us/step - loss: 0.2863 - accuracy: 0.8654 - val_loss: 0.3345 - val_accuracy: 0.8473\n",
      "Epoch 23/100\n",
      "30162/30162 [==============================] - 1s 50us/step - loss: 0.2861 - accuracy: 0.8658 - val_loss: 0.3374 - val_accuracy: 0.8440\n",
      "Epoch 24/100\n",
      "30162/30162 [==============================] - 1s 49us/step - loss: 0.2858 - accuracy: 0.8653 - val_loss: 0.3369 - val_accuracy: 0.8456\n",
      "Epoch 25/100\n",
      "30162/30162 [==============================] - 2s 50us/step - loss: 0.2851 - accuracy: 0.8648 - val_loss: 0.3365 - val_accuracy: 0.8467\n",
      "Epoch 26/100\n",
      "30162/30162 [==============================] - 1s 49us/step - loss: 0.2848 - accuracy: 0.8660 - val_loss: 0.3388 - val_accuracy: 0.8473\n",
      "Epoch 27/100\n",
      "30162/30162 [==============================] - 2s 50us/step - loss: 0.2856 - accuracy: 0.8665 - val_loss: 0.3364 - val_accuracy: 0.8473\n",
      "Epoch 28/100\n",
      "30162/30162 [==============================] - 1s 49us/step - loss: 0.2845 - accuracy: 0.8666 - val_loss: 0.3395 - val_accuracy: 0.8446\n",
      "Epoch 29/100\n",
      "30162/30162 [==============================] - 1s 50us/step - loss: 0.2843 - accuracy: 0.8666 - val_loss: 0.3359 - val_accuracy: 0.8467\n",
      "Epoch 30/100\n",
      "30162/30162 [==============================] - 1s 49us/step - loss: 0.2835 - accuracy: 0.8669 - val_loss: 0.3412 - val_accuracy: 0.8445\n",
      "Epoch 31/100\n",
      "30162/30162 [==============================] - 2s 51us/step - loss: 0.2840 - accuracy: 0.8673 - val_loss: 0.3400 - val_accuracy: 0.8471\n",
      "Epoch 32/100\n",
      "30162/30162 [==============================] - 2s 51us/step - loss: 0.2829 - accuracy: 0.8650 - val_loss: 0.3425 - val_accuracy: 0.8479\n",
      "Epoch 33/100\n",
      "30162/30162 [==============================] - 2s 50us/step - loss: 0.2831 - accuracy: 0.8670 - val_loss: 0.3388 - val_accuracy: 0.8467\n",
      "Epoch 34/100\n",
      "30162/30162 [==============================] - 1s 49us/step - loss: 0.2828 - accuracy: 0.8675 - val_loss: 0.3388 - val_accuracy: 0.8448\n",
      "Epoch 35/100\n",
      "30162/30162 [==============================] - 1s 49us/step - loss: 0.2826 - accuracy: 0.8667 - val_loss: 0.3397 - val_accuracy: 0.8454\n",
      "Epoch 36/100\n",
      "30162/30162 [==============================] - 1s 49us/step - loss: 0.2819 - accuracy: 0.8676 - val_loss: 0.3477 - val_accuracy: 0.8404\n",
      "Epoch 37/100\n",
      "30162/30162 [==============================] - 1s 49us/step - loss: 0.2816 - accuracy: 0.8681 - val_loss: 0.3438 - val_accuracy: 0.8456\n",
      "Epoch 38/100\n",
      "30162/30162 [==============================] - 1s 49us/step - loss: 0.2814 - accuracy: 0.8676 - val_loss: 0.3432 - val_accuracy: 0.8420\n",
      "Epoch 39/100\n",
      "30162/30162 [==============================] - 2s 50us/step - loss: 0.2813 - accuracy: 0.8668 - val_loss: 0.3474 - val_accuracy: 0.8455\n",
      "Epoch 40/100\n",
      "30162/30162 [==============================] - 2s 50us/step - loss: 0.2809 - accuracy: 0.8673 - val_loss: 0.3438 - val_accuracy: 0.8434\n",
      "Epoch 41/100\n",
      "30162/30162 [==============================] - 1s 49us/step - loss: 0.2805 - accuracy: 0.8683 - val_loss: 0.3433 - val_accuracy: 0.8406\n",
      "Epoch 42/100\n",
      "30162/30162 [==============================] - 1s 49us/step - loss: 0.2806 - accuracy: 0.8678 - val_loss: 0.3432 - val_accuracy: 0.8430\n",
      "Epoch 43/100\n",
      "30162/30162 [==============================] - 2s 50us/step - loss: 0.2797 - accuracy: 0.8683 - val_loss: 0.3425 - val_accuracy: 0.8462\n",
      "Epoch 44/100\n",
      "30162/30162 [==============================] - 1s 49us/step - loss: 0.2795 - accuracy: 0.8683 - val_loss: 0.3460 - val_accuracy: 0.8447\n",
      "Epoch 45/100\n",
      "30162/30162 [==============================] - 1s 49us/step - loss: 0.2794 - accuracy: 0.8688 - val_loss: 0.3423 - val_accuracy: 0.8458\n",
      "Epoch 46/100\n",
      "30162/30162 [==============================] - 1s 50us/step - loss: 0.2797 - accuracy: 0.8689 - val_loss: 0.3480 - val_accuracy: 0.8426\n",
      "Epoch 47/100\n",
      "30162/30162 [==============================] - 1s 49us/step - loss: 0.2786 - accuracy: 0.8691 - val_loss: 0.3467 - val_accuracy: 0.8477\n",
      "Epoch 48/100\n",
      "30162/30162 [==============================] - 1s 49us/step - loss: 0.2786 - accuracy: 0.8683 - val_loss: 0.3463 - val_accuracy: 0.8458\n",
      "Epoch 49/100\n",
      "30162/30162 [==============================] - 1s 49us/step - loss: 0.2783 - accuracy: 0.8687 - val_loss: 0.3452 - val_accuracy: 0.8434\n",
      "Epoch 50/100\n",
      "30162/30162 [==============================] - 1s 49us/step - loss: 0.2781 - accuracy: 0.8684 - val_loss: 0.3513 - val_accuracy: 0.8402\n",
      "Epoch 51/100\n",
      "30162/30162 [==============================] - 1s 49us/step - loss: 0.2784 - accuracy: 0.8689 - val_loss: 0.3475 - val_accuracy: 0.8458\n",
      "Epoch 52/100\n",
      "30162/30162 [==============================] - 2s 50us/step - loss: 0.2774 - accuracy: 0.8692 - val_loss: 0.3458 - val_accuracy: 0.8445\n",
      "Epoch 53/100\n",
      "30162/30162 [==============================] - 2s 50us/step - loss: 0.2774 - accuracy: 0.8689 - val_loss: 0.3481 - val_accuracy: 0.8447\n",
      "Epoch 54/100\n",
      "30162/30162 [==============================] - 1s 49us/step - loss: 0.2770 - accuracy: 0.8698 - val_loss: 0.3509 - val_accuracy: 0.8475\n",
      "Epoch 55/100\n",
      "30162/30162 [==============================] - 1s 50us/step - loss: 0.2769 - accuracy: 0.8686 - val_loss: 0.3536 - val_accuracy: 0.8358\n",
      "Epoch 56/100\n",
      "30162/30162 [==============================] - 2s 50us/step - loss: 0.2767 - accuracy: 0.8705 - val_loss: 0.3479 - val_accuracy: 0.8457\n",
      "Epoch 57/100\n",
      "30162/30162 [==============================] - 2s 50us/step - loss: 0.2760 - accuracy: 0.8705 - val_loss: 0.3511 - val_accuracy: 0.8428\n",
      "Epoch 58/100\n",
      "30162/30162 [==============================] - 1s 49us/step - loss: 0.2758 - accuracy: 0.8699 - val_loss: 0.3564 - val_accuracy: 0.8392\n",
      "Epoch 59/100\n",
      "30162/30162 [==============================] - 2s 50us/step - loss: 0.2761 - accuracy: 0.8716 - val_loss: 0.3502 - val_accuracy: 0.8438\n",
      "Epoch 60/100\n",
      "30162/30162 [==============================] - 2s 50us/step - loss: 0.2753 - accuracy: 0.8705 - val_loss: 0.3534 - val_accuracy: 0.8438\n",
      "Epoch 61/100\n",
      "30162/30162 [==============================] - 1s 49us/step - loss: 0.2754 - accuracy: 0.8704 - val_loss: 0.3612 - val_accuracy: 0.8343\n",
      "Epoch 62/100\n",
      "30162/30162 [==============================] - 1s 49us/step - loss: 0.2746 - accuracy: 0.8708 - val_loss: 0.3542 - val_accuracy: 0.8446\n",
      "Epoch 63/100\n",
      "30162/30162 [==============================] - 2s 50us/step - loss: 0.2743 - accuracy: 0.8708 - val_loss: 0.3588 - val_accuracy: 0.8415\n",
      "Epoch 64/100\n",
      "30162/30162 [==============================] - 2s 50us/step - loss: 0.2745 - accuracy: 0.8710 - val_loss: 0.3530 - val_accuracy: 0.8461\n",
      "Epoch 65/100\n",
      "30162/30162 [==============================] - 2s 50us/step - loss: 0.2743 - accuracy: 0.8715 - val_loss: 0.3530 - val_accuracy: 0.8415\n",
      "Epoch 66/100\n",
      "30162/30162 [==============================] - 2s 50us/step - loss: 0.2739 - accuracy: 0.8703 - val_loss: 0.3529 - val_accuracy: 0.8448\n",
      "Epoch 67/100\n",
      "30162/30162 [==============================] - 2s 50us/step - loss: 0.2733 - accuracy: 0.8725 - val_loss: 0.3503 - val_accuracy: 0.8438\n",
      "Epoch 68/100\n",
      "30162/30162 [==============================] - 1s 50us/step - loss: 0.2732 - accuracy: 0.8701 - val_loss: 0.3589 - val_accuracy: 0.8449\n",
      "Epoch 69/100\n",
      "30162/30162 [==============================] - 2s 50us/step - loss: 0.2733 - accuracy: 0.8715 - val_loss: 0.3564 - val_accuracy: 0.8437\n",
      "Epoch 70/100\n",
      "30162/30162 [==============================] - 2s 50us/step - loss: 0.2723 - accuracy: 0.8726 - val_loss: 0.3635 - val_accuracy: 0.8458\n",
      "Epoch 71/100\n",
      "30162/30162 [==============================] - 1s 50us/step - loss: 0.2733 - accuracy: 0.8726 - val_loss: 0.3543 - val_accuracy: 0.8420\n",
      "Epoch 72/100\n",
      "30162/30162 [==============================] - 2s 50us/step - loss: 0.2721 - accuracy: 0.8707 - val_loss: 0.3590 - val_accuracy: 0.8440\n",
      "Epoch 73/100\n",
      "30162/30162 [==============================] - 1s 49us/step - loss: 0.2725 - accuracy: 0.8716 - val_loss: 0.3581 - val_accuracy: 0.8446\n",
      "Epoch 74/100\n",
      "30162/30162 [==============================] - 1s 50us/step - loss: 0.2720 - accuracy: 0.8725 - val_loss: 0.3533 - val_accuracy: 0.8414\n",
      "Epoch 75/100\n",
      "30162/30162 [==============================] - 1s 49us/step - loss: 0.2716 - accuracy: 0.8716 - val_loss: 0.3644 - val_accuracy: 0.8410\n",
      "Epoch 76/100\n",
      "30162/30162 [==============================] - 1s 49us/step - loss: 0.2709 - accuracy: 0.8716 - val_loss: 0.3620 - val_accuracy: 0.8442\n",
      "Epoch 77/100\n",
      "30162/30162 [==============================] - 2s 50us/step - loss: 0.2709 - accuracy: 0.8721 - val_loss: 0.3571 - val_accuracy: 0.8442\n",
      "Epoch 78/100\n",
      "30162/30162 [==============================] - 2s 50us/step - loss: 0.2706 - accuracy: 0.8728 - val_loss: 0.3633 - val_accuracy: 0.8432\n",
      "Epoch 79/100\n",
      "30162/30162 [==============================] - 1s 50us/step - loss: 0.2705 - accuracy: 0.8730 - val_loss: 0.3643 - val_accuracy: 0.8444\n",
      "Epoch 80/100\n",
      "30162/30162 [==============================] - 1s 49us/step - loss: 0.2703 - accuracy: 0.8731 - val_loss: 0.3605 - val_accuracy: 0.8446\n",
      "Epoch 81/100\n",
      "30162/30162 [==============================] - 1s 49us/step - loss: 0.2695 - accuracy: 0.8721 - val_loss: 0.3639 - val_accuracy: 0.8414\n",
      "Epoch 82/100\n",
      "30162/30162 [==============================] - 2s 50us/step - loss: 0.2698 - accuracy: 0.8718 - val_loss: 0.3635 - val_accuracy: 0.8437\n",
      "Epoch 83/100\n",
      "30162/30162 [==============================] - 2s 51us/step - loss: 0.2697 - accuracy: 0.8727 - val_loss: 0.3663 - val_accuracy: 0.8407\n",
      "Epoch 84/100\n",
      "30162/30162 [==============================] - 1s 49us/step - loss: 0.2692 - accuracy: 0.8723 - val_loss: 0.3630 - val_accuracy: 0.8437\n",
      "Epoch 85/100\n",
      "30162/30162 [==============================] - 1s 49us/step - loss: 0.2686 - accuracy: 0.8737 - val_loss: 0.3675 - val_accuracy: 0.8428\n",
      "Epoch 86/100\n",
      "30162/30162 [==============================] - 1s 50us/step - loss: 0.2686 - accuracy: 0.8727 - val_loss: 0.3606 - val_accuracy: 0.8430\n",
      "Epoch 87/100\n",
      "30162/30162 [==============================] - 2s 51us/step - loss: 0.2683 - accuracy: 0.8738 - val_loss: 0.3657 - val_accuracy: 0.8424\n",
      "Epoch 88/100\n",
      "30162/30162 [==============================] - 2s 50us/step - loss: 0.2682 - accuracy: 0.8727 - val_loss: 0.3635 - val_accuracy: 0.8405\n",
      "Epoch 89/100\n",
      "30162/30162 [==============================] - 1s 49us/step - loss: 0.2687 - accuracy: 0.8732 - val_loss: 0.3605 - val_accuracy: 0.8426\n",
      "Epoch 90/100\n",
      "30162/30162 [==============================] - 1s 49us/step - loss: 0.2676 - accuracy: 0.8736 - val_loss: 0.3654 - val_accuracy: 0.8411\n",
      "Epoch 91/100\n",
      "30162/30162 [==============================] - 1s 49us/step - loss: 0.2678 - accuracy: 0.8735 - val_loss: 0.3668 - val_accuracy: 0.8400\n",
      "Epoch 92/100\n",
      "30162/30162 [==============================] - 1s 49us/step - loss: 0.2673 - accuracy: 0.8741 - val_loss: 0.3665 - val_accuracy: 0.8440\n",
      "Epoch 93/100\n",
      "30162/30162 [==============================] - 1s 49us/step - loss: 0.2669 - accuracy: 0.8726 - val_loss: 0.3699 - val_accuracy: 0.8414\n",
      "Epoch 94/100\n",
      "30162/30162 [==============================] - 1s 49us/step - loss: 0.2668 - accuracy: 0.8741 - val_loss: 0.3693 - val_accuracy: 0.8459\n",
      "Epoch 95/100\n",
      "30162/30162 [==============================] - 2s 50us/step - loss: 0.2669 - accuracy: 0.8737 - val_loss: 0.3745 - val_accuracy: 0.8346\n",
      "Epoch 96/100\n",
      "30162/30162 [==============================] - 1s 48us/step - loss: 0.2667 - accuracy: 0.8735 - val_loss: 0.3646 - val_accuracy: 0.8436\n",
      "Epoch 97/100\n",
      "30162/30162 [==============================] - 1s 49us/step - loss: 0.2660 - accuracy: 0.8740 - val_loss: 0.3680 - val_accuracy: 0.8398\n",
      "Epoch 98/100\n",
      "30162/30162 [==============================] - 1s 49us/step - loss: 0.2665 - accuracy: 0.8742 - val_loss: 0.3705 - val_accuracy: 0.8412\n",
      "Epoch 99/100\n",
      "30162/30162 [==============================] - 2s 50us/step - loss: 0.2658 - accuracy: 0.8735 - val_loss: 0.3711 - val_accuracy: 0.8423\n",
      "Epoch 100/100\n",
      "30162/30162 [==============================] - 1s 50us/step - loss: 0.2652 - accuracy: 0.8739 - val_loss: 0.3713 - val_accuracy: 0.8420\n"
     ]
    },
    {
     "data": {
      "text/plain": [
       "<keras.callbacks.callbacks.History at 0x7f6846e48f28>"
      ]
     },
     "execution_count": 14,
     "metadata": {
      "tags": []
     },
     "output_type": "execute_result"
    }
   ],
   "source": [
    "model.fit(X_train, y_train, validation_data= (X_test, y_test), batch_size=32,epochs=100, callbacks=[history_sgd])"
   ]
  },
  {
   "cell_type": "code",
   "execution_count": 18,
   "metadata": {
    "colab": {
     "base_uri": "https://localhost:8080/",
     "height": 265
    },
    "colab_type": "code",
    "id": "DHqO-ESf4dQr",
    "outputId": "53c471e9-dced-4e9b-c019-77436a90c3d0"
   },
   "outputs": [
    {
     "data": {
      "image/png": "[encoded data removed]",
      "text/plain": [
       "<Figure size 432x288 with 1 Axes>"
      ]
     },
     "metadata": {
      "needs_background": "light",
      "tags": []
     },
     "output_type": "display_data"
    }
   ],
   "source": [
    "import matplotlib.pyplot as pl\n",
    "plt.plot(history_sgd.history['accuracy'], label = \"tarina\")\n",
    "plt.plot(history_sgd.history['val_accuracy'], label = \"test\")\n",
    "plt.legend()\n",
    "plt.show()"
   ]
  },
  {
   "cell_type": "code",
   "execution_count": 19,
   "metadata": {
    "colab": {
     "base_uri": "https://localhost:8080/",
     "height": 265
    },
    "colab_type": "code",
    "id": "I-4CFsE34kiM",
    "outputId": "b21dcda0-a4c4-4906-9c9d-0263b649807e"
   },
   "outputs": [
    {
     "data": {
      "image/png": "[encoded data removed]",
      "text/plain": [
       "<Figure size 432x288 with 1 Axes>"
      ]
     },
     "metadata": {
      "needs_background": "light",
      "tags": []
     },
     "output_type": "display_data"
    }
   ],
   "source": [
    "import matplotlib.pyplot as pl\n",
    "plt.plot(history_sgd.history['loss'], label = \"tarina\")\n",
    "plt.plot(history_sgd.history['val_loss'], label = \"test\")\n",
    "plt.legend()\n",
    "plt.show()"
   ]
  },
  {
   "cell_type": "markdown",
   "metadata": {
    "colab_type": "text",
    "id": "xbKOcGql1v9b"
   },
   "source": [
    "# RMSprop"
   ]
  },
  {
   "cell_type": "code",
   "execution_count": 15,
   "metadata": {
    "colab": {
     "base_uri": "https://localhost:8080/",
     "height": 313
    },
    "colab_type": "code",
    "id": "oP_hNmjP1v9c",
    "outputId": "acab2e96-3ee6-4286-c99c-a2ee33d3b996"
   },
   "outputs": [
    {
     "name": "stdout",
     "output_type": "stream",
     "text": [
      "Model: \"sequential_2\"\n",
      "_________________________________________________________________\n",
      "Layer (type)                 Output Shape              Param #   \n",
      "=================================================================\n",
      "dense_5 (Dense)              (None, 100)               4200      \n",
      "_________________________________________________________________\n",
      "dense_6 (Dense)              (None, 50)                5050      \n",
      "_________________________________________________________________\n",
      "dense_7 (Dense)              (None, 10)                510       \n",
      "_________________________________________________________________\n",
      "dense_8 (Dense)              (None, 1)                 11        \n",
      "=================================================================\n",
      "Total params: 9,771\n",
      "Trainable params: 9,771\n",
      "Non-trainable params: 0\n",
      "_________________________________________________________________\n"
     ]
    }
   ],
   "source": [
    "from keras.models import Sequential\n",
    "from keras.layers import Dense\n",
    "\n",
    "from keras.callbacks import History\n",
    "\n",
    "history_RMS = History()\n",
    "model = Sequential()\n",
    "model.add(Dense(100,activation=\"sigmoid\",input_shape=(X_train.shape[1],)))\n",
    "model.add(Dense(50,activation=\"sigmoid\"))\n",
    "model.add(Dense(10,activation=\"sigmoid\"))\n",
    "model.add(Dense(1,activation=\"sigmoid\"))\n",
    "model.summary()"
   ]
  },
  {
   "cell_type": "code",
   "execution_count": 0,
   "metadata": {
    "colab": {},
    "colab_type": "code",
    "id": "iXVjwv_t3nco"
   },
   "outputs": [],
   "source": [
    "RMS = keras.optimizers.RMSprop(lr=0.01, decay=1e-6, momentum=0.9)\n",
    "model.compile(loss=\"binary_crossentropy\",optimizer=RMS, metrics=[\"accuracy\"])"
   ]
  },
  {
   "cell_type": "code",
   "execution_count": 21,
   "metadata": {
    "colab": {
     "base_uri": "https://localhost:8080/",
     "height": 1000
    },
    "colab_type": "code",
    "id": "kHN03k-l4bO7",
    "outputId": "250a9c3a-85a0-42a3-d325-9e2c198a25b7"
   },
   "outputs": [
    {
     "name": "stdout",
     "output_type": "stream",
     "text": [
      "Train on 30162 samples, validate on 15060 samples\n",
      "Epoch 1/100\n",
      "30162/30162 [==============================] - 2s 50us/step - loss: 0.3681 - accuracy: 0.8557 - val_loss: 0.3964 - val_accuracy: 0.8450\n",
      "Epoch 2/100\n",
      "30162/30162 [==============================] - 1s 50us/step - loss: 0.3720 - accuracy: 0.8520 - val_loss: 0.3998 - val_accuracy: 0.8401\n",
      "Epoch 3/100\n",
      "30162/30162 [==============================] - 2s 50us/step - loss: 0.3659 - accuracy: 0.8506 - val_loss: 0.3834 - val_accuracy: 0.8410\n",
      "Epoch 4/100\n",
      "30162/30162 [==============================] - 2s 50us/step - loss: 0.3659 - accuracy: 0.8526 - val_loss: 0.3925 - val_accuracy: 0.8193\n",
      "Epoch 5/100\n",
      "30162/30162 [==============================] - 2s 50us/step - loss: 0.3660 - accuracy: 0.8539 - val_loss: 0.3891 - val_accuracy: 0.8469\n",
      "Epoch 6/100\n",
      "30162/30162 [==============================] - 2s 51us/step - loss: 0.3707 - accuracy: 0.8536 - val_loss: 0.3752 - val_accuracy: 0.8470\n",
      "Epoch 7/100\n",
      "30162/30162 [==============================] - 2s 51us/step - loss: 0.3664 - accuracy: 0.8530 - val_loss: 0.3853 - val_accuracy: 0.8453\n",
      "Epoch 8/100\n",
      "30162/30162 [==============================] - 1s 50us/step - loss: 0.3662 - accuracy: 0.8527 - val_loss: 0.3714 - val_accuracy: 0.8417\n",
      "Epoch 9/100\n",
      "30162/30162 [==============================] - 2s 50us/step - loss: 0.3648 - accuracy: 0.8526 - val_loss: 0.3790 - val_accuracy: 0.8399\n",
      "Epoch 10/100\n",
      "30162/30162 [==============================] - 1s 49us/step - loss: 0.3673 - accuracy: 0.8525 - val_loss: 0.4001 - val_accuracy: 0.8461\n",
      "Epoch 11/100\n",
      "30162/30162 [==============================] - 1s 49us/step - loss: 0.3741 - accuracy: 0.8558 - val_loss: 0.3912 - val_accuracy: 0.8444\n",
      "Epoch 12/100\n",
      "30162/30162 [==============================] - 1s 49us/step - loss: 0.3770 - accuracy: 0.8561 - val_loss: 0.4023 - val_accuracy: 0.8459\n",
      "Epoch 13/100\n",
      "30162/30162 [==============================] - 2s 50us/step - loss: 0.3668 - accuracy: 0.8563 - val_loss: 0.3832 - val_accuracy: 0.8436\n",
      "Epoch 14/100\n",
      "30162/30162 [==============================] - 2s 50us/step - loss: 0.3627 - accuracy: 0.8553 - val_loss: 0.3871 - val_accuracy: 0.8450\n",
      "Epoch 15/100\n",
      "30162/30162 [==============================] - 2s 50us/step - loss: 0.3690 - accuracy: 0.8570 - val_loss: 0.3897 - val_accuracy: 0.8477\n",
      "Epoch 16/100\n",
      "30162/30162 [==============================] - 1s 50us/step - loss: 0.3602 - accuracy: 0.8568 - val_loss: 0.3974 - val_accuracy: 0.8423\n",
      "Epoch 17/100\n",
      "30162/30162 [==============================] - 2s 51us/step - loss: 0.3634 - accuracy: 0.8566 - val_loss: 0.3875 - val_accuracy: 0.8464\n",
      "Epoch 18/100\n",
      "30162/30162 [==============================] - 2s 50us/step - loss: 0.3706 - accuracy: 0.8566 - val_loss: 0.3917 - val_accuracy: 0.8467\n",
      "Epoch 19/100\n",
      "30162/30162 [==============================] - 2s 51us/step - loss: 0.3661 - accuracy: 0.8580 - val_loss: 0.3877 - val_accuracy: 0.8479\n",
      "Epoch 20/100\n",
      "30162/30162 [==============================] - 2s 51us/step - loss: 0.3608 - accuracy: 0.8562 - val_loss: 0.3771 - val_accuracy: 0.8474\n",
      "Epoch 21/100\n",
      "30162/30162 [==============================] - 2s 50us/step - loss: 0.3584 - accuracy: 0.8580 - val_loss: 0.4190 - val_accuracy: 0.8445\n",
      "Epoch 22/100\n",
      "30162/30162 [==============================] - 1s 50us/step - loss: 0.3628 - accuracy: 0.8573 - val_loss: 0.3810 - val_accuracy: 0.8465\n",
      "Epoch 23/100\n",
      "30162/30162 [==============================] - 2s 50us/step - loss: 0.3591 - accuracy: 0.8577 - val_loss: 0.3801 - val_accuracy: 0.8460\n",
      "Epoch 24/100\n",
      "30162/30162 [==============================] - 2s 50us/step - loss: 0.3671 - accuracy: 0.8588 - val_loss: 0.3938 - val_accuracy: 0.8462\n",
      "Epoch 25/100\n",
      "30162/30162 [==============================] - 1s 50us/step - loss: 0.3731 - accuracy: 0.8585 - val_loss: 0.3837 - val_accuracy: 0.8450\n",
      "Epoch 26/100\n",
      "30162/30162 [==============================] - 2s 51us/step - loss: 0.3687 - accuracy: 0.8608 - val_loss: 0.3930 - val_accuracy: 0.8434\n",
      "Epoch 27/100\n",
      "30162/30162 [==============================] - 1s 49us/step - loss: 0.3782 - accuracy: 0.8588 - val_loss: 0.4135 - val_accuracy: 0.8450\n",
      "Epoch 28/100\n",
      "30162/30162 [==============================] - 2s 50us/step - loss: 0.3783 - accuracy: 0.8579 - val_loss: 0.4063 - val_accuracy: 0.8403\n",
      "Epoch 29/100\n",
      "30162/30162 [==============================] - 2s 50us/step - loss: 0.3766 - accuracy: 0.8598 - val_loss: 0.4044 - val_accuracy: 0.8452\n",
      "Epoch 30/100\n",
      "30162/30162 [==============================] - 1s 50us/step - loss: 0.3666 - accuracy: 0.8584 - val_loss: 0.3845 - val_accuracy: 0.8461\n",
      "Epoch 31/100\n",
      "30162/30162 [==============================] - 1s 50us/step - loss: 0.3657 - accuracy: 0.8604 - val_loss: 0.4008 - val_accuracy: 0.8440\n",
      "Epoch 32/100\n",
      "30162/30162 [==============================] - 1s 49us/step - loss: 0.3630 - accuracy: 0.8590 - val_loss: 0.3836 - val_accuracy: 0.8444\n",
      "Epoch 33/100\n",
      "30162/30162 [==============================] - 2s 50us/step - loss: 0.3653 - accuracy: 0.8612 - val_loss: 0.3961 - val_accuracy: 0.8478\n",
      "Epoch 34/100\n",
      "30162/30162 [==============================] - 1s 49us/step - loss: 0.3675 - accuracy: 0.8601 - val_loss: 0.3824 - val_accuracy: 0.8469\n",
      "Epoch 35/100\n",
      "30162/30162 [==============================] - 2s 50us/step - loss: 0.3580 - accuracy: 0.8584 - val_loss: 0.3903 - val_accuracy: 0.8482\n",
      "Epoch 36/100\n",
      "30162/30162 [==============================] - 2s 50us/step - loss: 0.3599 - accuracy: 0.8596 - val_loss: 0.3888 - val_accuracy: 0.8449\n",
      "Epoch 37/100\n",
      "30162/30162 [==============================] - 2s 52us/step - loss: 0.3610 - accuracy: 0.8579 - val_loss: 0.3978 - val_accuracy: 0.8449\n",
      "Epoch 38/100\n",
      "30162/30162 [==============================] - 1s 50us/step - loss: 0.3733 - accuracy: 0.8607 - val_loss: 0.3956 - val_accuracy: 0.8429\n",
      "Epoch 39/100\n",
      "30162/30162 [==============================] - 1s 49us/step - loss: 0.3675 - accuracy: 0.8607 - val_loss: 0.3846 - val_accuracy: 0.8477\n",
      "Epoch 40/100\n",
      "30162/30162 [==============================] - 2s 50us/step - loss: 0.3613 - accuracy: 0.8598 - val_loss: 0.3891 - val_accuracy: 0.8473\n",
      "Epoch 41/100\n",
      "30162/30162 [==============================] - 2s 50us/step - loss: 0.3644 - accuracy: 0.8595 - val_loss: 0.4035 - val_accuracy: 0.8446\n",
      "Epoch 42/100\n",
      "30162/30162 [==============================] - 2s 50us/step - loss: 0.3734 - accuracy: 0.8591 - val_loss: 0.3919 - val_accuracy: 0.8456\n",
      "Epoch 43/100\n",
      "30162/30162 [==============================] - 2s 50us/step - loss: 0.3632 - accuracy: 0.8596 - val_loss: 0.3937 - val_accuracy: 0.8414\n",
      "Epoch 44/100\n",
      "30162/30162 [==============================] - 2s 51us/step - loss: 0.3730 - accuracy: 0.8596 - val_loss: 0.3974 - val_accuracy: 0.8449\n",
      "Epoch 45/100\n",
      "30162/30162 [==============================] - 1s 49us/step - loss: 0.3664 - accuracy: 0.8607 - val_loss: 0.3907 - val_accuracy: 0.8474\n",
      "Epoch 46/100\n",
      "30162/30162 [==============================] - 1s 50us/step - loss: 0.3734 - accuracy: 0.8606 - val_loss: 0.4036 - val_accuracy: 0.8458\n",
      "Epoch 47/100\n",
      "30162/30162 [==============================] - 2s 50us/step - loss: 0.3739 - accuracy: 0.8623 - val_loss: 0.3922 - val_accuracy: 0.8460\n",
      "Epoch 48/100\n",
      "30162/30162 [==============================] - 2s 50us/step - loss: 0.3697 - accuracy: 0.8623 - val_loss: 0.4113 - val_accuracy: 0.8470\n",
      "Epoch 49/100\n",
      "30162/30162 [==============================] - 2s 50us/step - loss: 0.3728 - accuracy: 0.8627 - val_loss: 0.3996 - val_accuracy: 0.8479\n",
      "Epoch 50/100\n",
      "30162/30162 [==============================] - 2s 50us/step - loss: 0.3683 - accuracy: 0.8603 - val_loss: 0.3904 - val_accuracy: 0.8491\n",
      "Epoch 51/100\n",
      "30162/30162 [==============================] - 1s 49us/step - loss: 0.3643 - accuracy: 0.8631 - val_loss: 0.4013 - val_accuracy: 0.8487\n",
      "Epoch 52/100\n",
      "30162/30162 [==============================] - 2s 50us/step - loss: 0.3747 - accuracy: 0.8626 - val_loss: 0.3979 - val_accuracy: 0.8474\n",
      "Epoch 53/100\n",
      "30162/30162 [==============================] - 2s 50us/step - loss: 0.3672 - accuracy: 0.8641 - val_loss: 0.3971 - val_accuracy: 0.8469\n",
      "Epoch 54/100\n",
      "30162/30162 [==============================] - 2s 50us/step - loss: 0.3681 - accuracy: 0.8629 - val_loss: 0.3993 - val_accuracy: 0.8471\n",
      "Epoch 55/100\n",
      "30162/30162 [==============================] - 2s 50us/step - loss: 0.3670 - accuracy: 0.8628 - val_loss: 0.4091 - val_accuracy: 0.8406\n",
      "Epoch 56/100\n",
      "30162/30162 [==============================] - 2s 51us/step - loss: 0.3635 - accuracy: 0.8617 - val_loss: 0.4043 - val_accuracy: 0.8228\n",
      "Epoch 57/100\n",
      "30162/30162 [==============================] - 1s 49us/step - loss: 0.3573 - accuracy: 0.8619 - val_loss: 0.3876 - val_accuracy: 0.8467\n",
      "Epoch 58/100\n",
      "30162/30162 [==============================] - 2s 51us/step - loss: 0.3601 - accuracy: 0.8607 - val_loss: 0.3859 - val_accuracy: 0.8398\n",
      "Epoch 59/100\n",
      "30162/30162 [==============================] - 2s 50us/step - loss: 0.3563 - accuracy: 0.8614 - val_loss: 0.3912 - val_accuracy: 0.8338\n",
      "Epoch 60/100\n",
      "30162/30162 [==============================] - 2s 51us/step - loss: 0.3660 - accuracy: 0.8616 - val_loss: 0.3940 - val_accuracy: 0.8493\n",
      "Epoch 61/100\n",
      "30162/30162 [==============================] - 2s 52us/step - loss: 0.3712 - accuracy: 0.8645 - val_loss: 0.3953 - val_accuracy: 0.8479\n",
      "Epoch 62/100\n",
      "30162/30162 [==============================] - 2s 53us/step - loss: 0.3686 - accuracy: 0.8648 - val_loss: 0.4344 - val_accuracy: 0.8410\n",
      "Epoch 63/100\n",
      "30162/30162 [==============================] - 2s 52us/step - loss: 0.3691 - accuracy: 0.8647 - val_loss: 0.4043 - val_accuracy: 0.8412\n",
      "Epoch 64/100\n",
      "30162/30162 [==============================] - 2s 51us/step - loss: 0.3636 - accuracy: 0.8641 - val_loss: 0.4079 - val_accuracy: 0.8450\n",
      "Epoch 65/100\n",
      "30162/30162 [==============================] - 1s 49us/step - loss: 0.3638 - accuracy: 0.8655 - val_loss: 0.3897 - val_accuracy: 0.8452\n",
      "Epoch 66/100\n",
      "30162/30162 [==============================] - 2s 50us/step - loss: 0.3595 - accuracy: 0.8654 - val_loss: 0.4229 - val_accuracy: 0.8398\n",
      "Epoch 67/100\n",
      "30162/30162 [==============================] - 1s 49us/step - loss: 0.3565 - accuracy: 0.8644 - val_loss: 0.3933 - val_accuracy: 0.8443\n",
      "Epoch 68/100\n",
      "30162/30162 [==============================] - 2s 52us/step - loss: 0.3613 - accuracy: 0.8664 - val_loss: 0.4055 - val_accuracy: 0.8457\n",
      "Epoch 69/100\n",
      "30162/30162 [==============================] - 1s 49us/step - loss: 0.3667 - accuracy: 0.8654 - val_loss: 0.3987 - val_accuracy: 0.8448\n",
      "Epoch 70/100\n",
      "30162/30162 [==============================] - 2s 50us/step - loss: 0.3609 - accuracy: 0.8645 - val_loss: 0.3810 - val_accuracy: 0.8400\n",
      "Epoch 71/100\n",
      "30162/30162 [==============================] - 2s 50us/step - loss: 0.3565 - accuracy: 0.8648 - val_loss: 0.3946 - val_accuracy: 0.8459\n",
      "Epoch 72/100\n",
      "30162/30162 [==============================] - 1s 50us/step - loss: 0.3603 - accuracy: 0.8643 - val_loss: 0.3896 - val_accuracy: 0.8460\n",
      "Epoch 73/100\n",
      "30162/30162 [==============================] - 2s 50us/step - loss: 0.3494 - accuracy: 0.8620 - val_loss: 0.3770 - val_accuracy: 0.8498\n",
      "Epoch 74/100\n",
      "30162/30162 [==============================] - 2s 50us/step - loss: 0.3549 - accuracy: 0.8631 - val_loss: 0.3931 - val_accuracy: 0.8442\n",
      "Epoch 75/100\n",
      "30162/30162 [==============================] - 2s 50us/step - loss: 0.3660 - accuracy: 0.8637 - val_loss: 0.3970 - val_accuracy: 0.8488\n",
      "Epoch 76/100\n",
      "30162/30162 [==============================] - 1s 50us/step - loss: 0.3636 - accuracy: 0.8638 - val_loss: 0.4027 - val_accuracy: 0.8451\n",
      "Epoch 77/100\n",
      "30162/30162 [==============================] - 1s 49us/step - loss: 0.3558 - accuracy: 0.8632 - val_loss: 0.4036 - val_accuracy: 0.8419\n",
      "Epoch 78/100\n",
      "30162/30162 [==============================] - 2s 50us/step - loss: 0.3636 - accuracy: 0.8638 - val_loss: 0.3948 - val_accuracy: 0.8467\n",
      "Epoch 79/100\n",
      "30162/30162 [==============================] - 1s 49us/step - loss: 0.3605 - accuracy: 0.8646 - val_loss: 0.4009 - val_accuracy: 0.8456\n",
      "Epoch 80/100\n",
      "30162/30162 [==============================] - 2s 50us/step - loss: 0.3591 - accuracy: 0.8672 - val_loss: 0.3929 - val_accuracy: 0.8438\n",
      "Epoch 81/100\n",
      "30162/30162 [==============================] - 1s 49us/step - loss: 0.3577 - accuracy: 0.8646 - val_loss: 0.4096 - val_accuracy: 0.8472\n",
      "Epoch 82/100\n",
      "30162/30162 [==============================] - 2s 50us/step - loss: 0.3655 - accuracy: 0.8649 - val_loss: 0.4054 - val_accuracy: 0.8424\n",
      "Epoch 83/100\n",
      "30162/30162 [==============================] - 1s 49us/step - loss: 0.3680 - accuracy: 0.8671 - val_loss: 0.3997 - val_accuracy: 0.8451\n",
      "Epoch 84/100\n",
      "30162/30162 [==============================] - 2s 51us/step - loss: 0.3665 - accuracy: 0.8657 - val_loss: 0.4009 - val_accuracy: 0.8467\n",
      "Epoch 85/100\n",
      "30162/30162 [==============================] - 1s 49us/step - loss: 0.3644 - accuracy: 0.8665 - val_loss: 0.4100 - val_accuracy: 0.8445\n",
      "Epoch 86/100\n",
      "30162/30162 [==============================] - 2s 50us/step - loss: 0.3698 - accuracy: 0.8652 - val_loss: 0.4024 - val_accuracy: 0.8442\n",
      "Epoch 87/100\n",
      "30162/30162 [==============================] - 2s 50us/step - loss: 0.3608 - accuracy: 0.8671 - val_loss: 0.3951 - val_accuracy: 0.8461\n",
      "Epoch 88/100\n",
      "30162/30162 [==============================] - 2s 50us/step - loss: 0.3601 - accuracy: 0.8665 - val_loss: 0.4071 - val_accuracy: 0.8426\n",
      "Epoch 89/100\n",
      "30162/30162 [==============================] - 2s 50us/step - loss: 0.3621 - accuracy: 0.8677 - val_loss: 0.3985 - val_accuracy: 0.8474\n",
      "Epoch 90/100\n",
      "30162/30162 [==============================] - 1s 49us/step - loss: 0.3678 - accuracy: 0.8669 - val_loss: 0.4096 - val_accuracy: 0.8452\n",
      "Epoch 91/100\n",
      "30162/30162 [==============================] - 1s 49us/step - loss: 0.3649 - accuracy: 0.8679 - val_loss: 0.4039 - val_accuracy: 0.8422\n",
      "Epoch 92/100\n",
      "30162/30162 [==============================] - 1s 50us/step - loss: 0.3636 - accuracy: 0.8674 - val_loss: 0.4192 - val_accuracy: 0.8400\n",
      "Epoch 93/100\n",
      "30162/30162 [==============================] - 2s 50us/step - loss: 0.3661 - accuracy: 0.8675 - val_loss: 0.3945 - val_accuracy: 0.8483\n",
      "Epoch 94/100\n",
      "30162/30162 [==============================] - 2s 50us/step - loss: 0.3601 - accuracy: 0.8694 - val_loss: 0.4018 - val_accuracy: 0.8424\n",
      "Epoch 95/100\n",
      "30162/30162 [==============================] - 1s 49us/step - loss: 0.3669 - accuracy: 0.8666 - val_loss: 0.4018 - val_accuracy: 0.8451\n",
      "Epoch 96/100\n",
      "30162/30162 [==============================] - 2s 50us/step - loss: 0.3593 - accuracy: 0.8670 - val_loss: 0.3928 - val_accuracy: 0.8442\n",
      "Epoch 97/100\n",
      "30162/30162 [==============================] - 1s 49us/step - loss: 0.3574 - accuracy: 0.8650 - val_loss: 0.3924 - val_accuracy: 0.8453\n",
      "Epoch 98/100\n",
      "30162/30162 [==============================] - 1s 49us/step - loss: 0.3596 - accuracy: 0.8660 - val_loss: 0.3956 - val_accuracy: 0.8473\n",
      "Epoch 99/100\n",
      "30162/30162 [==============================] - 2s 50us/step - loss: 0.3589 - accuracy: 0.8646 - val_loss: 0.3874 - val_accuracy: 0.8485\n",
      "Epoch 100/100\n",
      "30162/30162 [==============================] - 1s 49us/step - loss: 0.3580 - accuracy: 0.8644 - val_loss: 0.4005 - val_accuracy: 0.8445\n"
     ]
    },
    {
     "data": {
      "text/plain": [
       "<keras.callbacks.callbacks.History at 0x7f6846c529b0>"
      ]
     },
     "execution_count": 21,
     "metadata": {
      "tags": []
     },
     "output_type": "execute_result"
    }
   ],
   "source": [
    "model.fit(X_train, y_train, validation_data= (X_test, y_test), batch_size=32,epochs=100, callbacks=[history_RMS])"
   ]
  },
  {
   "cell_type": "code",
   "execution_count": 23,
   "metadata": {
    "colab": {
     "base_uri": "https://localhost:8080/",
     "height": 265
    },
    "colab_type": "code",
    "id": "B4C_Omgs59zU",
    "outputId": "ff02a89f-4d6b-41e0-e89f-66f528967621"
   },
   "outputs": [
    {
     "data": {
      "image/png": "[encoded data removed]",
      "text/plain": [
       "<Figure size 432x288 with 1 Axes>"
      ]
     },
     "metadata": {
      "needs_background": "light",
      "tags": []
     },
     "output_type": "display_data"
    }
   ],
   "source": [
    "import matplotlib.pyplot as pl\n",
    "plt.plot(history_sgd.history['accuracy'], label = \"tarina_SGD\")\n",
    "plt.plot(history_sgd.history['val_accuracy'], label = \"test_SGD\")\n",
    "plt.plot(history_RMS.history['accuracy'], label='tatrina_RMS')\n",
    "plt.plot(history_RMS.history['val_accuracy'], label='test_RMS')\n",
    "plt.legend()\n",
    "plt.show()"
   ]
  },
  {
   "cell_type": "markdown",
   "metadata": {
    "colab_type": "text",
    "id": "AnuypmKA1v99"
   },
   "source": [
    "# Adam"
   ]
  },
  {
   "cell_type": "code",
   "execution_count": 0,
   "metadata": {
    "colab": {},
    "colab_type": "code",
    "id": "XVmWtoAF1v9_"
   },
   "outputs": [],
   "source": [
    "model.compile(loss=\"binary_crossentropy\",optimizer='adam', metrics=[\"accuracy\"])\n",
    "history_adam = History()"
   ]
  },
  {
   "cell_type": "code",
   "execution_count": 27,
   "metadata": {
    "colab": {
     "base_uri": "https://localhost:8080/",
     "height": 1000
    },
    "colab_type": "code",
    "id": "7AlHhLK66dgD",
    "outputId": "601258ee-95d3-43b9-de33-70229a64f7a6"
   },
   "outputs": [
    {
     "name": "stdout",
     "output_type": "stream",
     "text": [
      "Train on 30162 samples, validate on 15060 samples\n",
      "Epoch 1/100\n",
      "30162/30162 [==============================] - 2s 57us/step - loss: 0.3524 - accuracy: 0.8683 - val_loss: 0.3950 - val_accuracy: 0.8442\n",
      "Epoch 2/100\n",
      "30162/30162 [==============================] - 2s 53us/step - loss: 0.3501 - accuracy: 0.8688 - val_loss: 0.3943 - val_accuracy: 0.8445\n",
      "Epoch 3/100\n",
      "30162/30162 [==============================] - 2s 54us/step - loss: 0.3490 - accuracy: 0.8694 - val_loss: 0.3938 - val_accuracy: 0.8449\n",
      "Epoch 4/100\n",
      "30162/30162 [==============================] - 2s 53us/step - loss: 0.3480 - accuracy: 0.8699 - val_loss: 0.3944 - val_accuracy: 0.8444\n",
      "Epoch 5/100\n",
      "30162/30162 [==============================] - 2s 54us/step - loss: 0.3475 - accuracy: 0.8701 - val_loss: 0.3949 - val_accuracy: 0.8448\n",
      "Epoch 6/100\n",
      "30162/30162 [==============================] - 2s 53us/step - loss: 0.3469 - accuracy: 0.8706 - val_loss: 0.3947 - val_accuracy: 0.8447\n",
      "Epoch 7/100\n",
      "30162/30162 [==============================] - 2s 54us/step - loss: 0.3464 - accuracy: 0.8707 - val_loss: 0.3940 - val_accuracy: 0.8451\n",
      "Epoch 8/100\n",
      "30162/30162 [==============================] - 2s 54us/step - loss: 0.3462 - accuracy: 0.8706 - val_loss: 0.3948 - val_accuracy: 0.8448\n",
      "Epoch 9/100\n",
      "30162/30162 [==============================] - 2s 54us/step - loss: 0.3459 - accuracy: 0.8712 - val_loss: 0.3946 - val_accuracy: 0.8452\n",
      "Epoch 10/100\n",
      "30162/30162 [==============================] - 2s 54us/step - loss: 0.3457 - accuracy: 0.8710 - val_loss: 0.3943 - val_accuracy: 0.8452\n",
      "Epoch 11/100\n",
      "30162/30162 [==============================] - 2s 54us/step - loss: 0.3453 - accuracy: 0.8710 - val_loss: 0.3941 - val_accuracy: 0.8458\n",
      "Epoch 12/100\n",
      "30162/30162 [==============================] - 2s 54us/step - loss: 0.3450 - accuracy: 0.8713 - val_loss: 0.3947 - val_accuracy: 0.8456\n",
      "Epoch 13/100\n",
      "30162/30162 [==============================] - 2s 54us/step - loss: 0.3447 - accuracy: 0.8712 - val_loss: 0.3948 - val_accuracy: 0.8453\n",
      "Epoch 14/100\n",
      "30162/30162 [==============================] - 2s 53us/step - loss: 0.3443 - accuracy: 0.8714 - val_loss: 0.3950 - val_accuracy: 0.8451\n",
      "Epoch 15/100\n",
      "30162/30162 [==============================] - 2s 54us/step - loss: 0.3439 - accuracy: 0.8717 - val_loss: 0.3949 - val_accuracy: 0.8452\n",
      "Epoch 16/100\n",
      "30162/30162 [==============================] - 2s 55us/step - loss: 0.3424 - accuracy: 0.8718 - val_loss: 0.3879 - val_accuracy: 0.8451\n",
      "Epoch 17/100\n",
      "30162/30162 [==============================] - 2s 56us/step - loss: 0.3382 - accuracy: 0.8721 - val_loss: 0.3821 - val_accuracy: 0.8454\n",
      "Epoch 18/100\n",
      "30162/30162 [==============================] - 2s 57us/step - loss: 0.3324 - accuracy: 0.8719 - val_loss: 0.3776 - val_accuracy: 0.8452\n",
      "Epoch 19/100\n",
      "30162/30162 [==============================] - 2s 58us/step - loss: 0.3279 - accuracy: 0.8721 - val_loss: 0.3712 - val_accuracy: 0.8453\n",
      "Epoch 20/100\n",
      "30162/30162 [==============================] - 2s 53us/step - loss: 0.3243 - accuracy: 0.8722 - val_loss: 0.3685 - val_accuracy: 0.8454\n",
      "Epoch 21/100\n",
      "30162/30162 [==============================] - 2s 54us/step - loss: 0.3215 - accuracy: 0.8724 - val_loss: 0.3646 - val_accuracy: 0.8456\n",
      "Epoch 22/100\n",
      "30162/30162 [==============================] - 2s 54us/step - loss: 0.3192 - accuracy: 0.8723 - val_loss: 0.3629 - val_accuracy: 0.8456\n",
      "Epoch 23/100\n",
      "30162/30162 [==============================] - 2s 54us/step - loss: 0.3167 - accuracy: 0.8724 - val_loss: 0.3609 - val_accuracy: 0.8459\n",
      "Epoch 24/100\n",
      "30162/30162 [==============================] - 2s 54us/step - loss: 0.3152 - accuracy: 0.8729 - val_loss: 0.3584 - val_accuracy: 0.8459\n",
      "Epoch 25/100\n",
      "30162/30162 [==============================] - 2s 55us/step - loss: 0.3131 - accuracy: 0.8731 - val_loss: 0.3575 - val_accuracy: 0.8465\n",
      "Epoch 26/100\n",
      "30162/30162 [==============================] - 2s 55us/step - loss: 0.3115 - accuracy: 0.8735 - val_loss: 0.3565 - val_accuracy: 0.8461\n",
      "Epoch 27/100\n",
      "30162/30162 [==============================] - 2s 53us/step - loss: 0.3104 - accuracy: 0.8733 - val_loss: 0.3551 - val_accuracy: 0.8460\n",
      "Epoch 28/100\n",
      "30162/30162 [==============================] - 2s 54us/step - loss: 0.3091 - accuracy: 0.8736 - val_loss: 0.3545 - val_accuracy: 0.8452\n",
      "Epoch 29/100\n",
      "30162/30162 [==============================] - 2s 54us/step - loss: 0.3080 - accuracy: 0.8739 - val_loss: 0.3531 - val_accuracy: 0.8456\n",
      "Epoch 30/100\n",
      "30162/30162 [==============================] - 2s 54us/step - loss: 0.3070 - accuracy: 0.8739 - val_loss: 0.3550 - val_accuracy: 0.8461\n",
      "Epoch 31/100\n",
      "30162/30162 [==============================] - 2s 54us/step - loss: 0.3063 - accuracy: 0.8743 - val_loss: 0.3549 - val_accuracy: 0.8446\n",
      "Epoch 32/100\n",
      "30162/30162 [==============================] - 2s 55us/step - loss: 0.3054 - accuracy: 0.8742 - val_loss: 0.3535 - val_accuracy: 0.8444\n",
      "Epoch 33/100\n",
      "30162/30162 [==============================] - 2s 54us/step - loss: 0.3050 - accuracy: 0.8745 - val_loss: 0.3539 - val_accuracy: 0.8449\n",
      "Epoch 34/100\n",
      "30162/30162 [==============================] - 2s 52us/step - loss: 0.3044 - accuracy: 0.8744 - val_loss: 0.3533 - val_accuracy: 0.8452\n",
      "Epoch 35/100\n",
      "30162/30162 [==============================] - 2s 54us/step - loss: 0.3034 - accuracy: 0.8751 - val_loss: 0.3523 - val_accuracy: 0.8439\n",
      "Epoch 36/100\n",
      "30162/30162 [==============================] - 2s 54us/step - loss: 0.3028 - accuracy: 0.8753 - val_loss: 0.3525 - val_accuracy: 0.8451\n",
      "Epoch 37/100\n",
      "30162/30162 [==============================] - 2s 54us/step - loss: 0.3021 - accuracy: 0.8753 - val_loss: 0.3543 - val_accuracy: 0.8452\n",
      "Epoch 38/100\n",
      "30162/30162 [==============================] - 2s 54us/step - loss: 0.3015 - accuracy: 0.8754 - val_loss: 0.3525 - val_accuracy: 0.8448\n",
      "Epoch 39/100\n",
      "30162/30162 [==============================] - 2s 53us/step - loss: 0.3008 - accuracy: 0.8758 - val_loss: 0.3532 - val_accuracy: 0.8430\n",
      "Epoch 40/100\n",
      "30162/30162 [==============================] - 2s 54us/step - loss: 0.3002 - accuracy: 0.8757 - val_loss: 0.3529 - val_accuracy: 0.8436\n",
      "Epoch 41/100\n",
      "30162/30162 [==============================] - 2s 53us/step - loss: 0.2996 - accuracy: 0.8757 - val_loss: 0.3544 - val_accuracy: 0.8444\n",
      "Epoch 42/100\n",
      "30162/30162 [==============================] - 2s 54us/step - loss: 0.2990 - accuracy: 0.8758 - val_loss: 0.3535 - val_accuracy: 0.8437\n",
      "Epoch 43/100\n",
      "30162/30162 [==============================] - 2s 54us/step - loss: 0.2982 - accuracy: 0.8763 - val_loss: 0.3578 - val_accuracy: 0.8432\n",
      "Epoch 44/100\n",
      "30162/30162 [==============================] - 2s 54us/step - loss: 0.2976 - accuracy: 0.8766 - val_loss: 0.3550 - val_accuracy: 0.8440\n",
      "Epoch 45/100\n",
      "30162/30162 [==============================] - 2s 54us/step - loss: 0.2969 - accuracy: 0.8761 - val_loss: 0.3544 - val_accuracy: 0.8440\n",
      "Epoch 46/100\n",
      "30162/30162 [==============================] - 2s 54us/step - loss: 0.2962 - accuracy: 0.8764 - val_loss: 0.3616 - val_accuracy: 0.8448\n",
      "Epoch 47/100\n",
      "30162/30162 [==============================] - 2s 54us/step - loss: 0.2957 - accuracy: 0.8761 - val_loss: 0.3566 - val_accuracy: 0.8446\n",
      "Epoch 48/100\n",
      "30162/30162 [==============================] - 2s 54us/step - loss: 0.2950 - accuracy: 0.8769 - val_loss: 0.3552 - val_accuracy: 0.8439\n",
      "Epoch 49/100\n",
      "30162/30162 [==============================] - 2s 54us/step - loss: 0.2932 - accuracy: 0.8772 - val_loss: 0.3562 - val_accuracy: 0.8444\n",
      "Epoch 50/100\n",
      "30162/30162 [==============================] - 2s 55us/step - loss: 0.2919 - accuracy: 0.8765 - val_loss: 0.3585 - val_accuracy: 0.8442\n",
      "Epoch 51/100\n",
      "30162/30162 [==============================] - 2s 54us/step - loss: 0.2907 - accuracy: 0.8777 - val_loss: 0.3565 - val_accuracy: 0.8441\n",
      "Epoch 52/100\n",
      "30162/30162 [==============================] - 2s 53us/step - loss: 0.2899 - accuracy: 0.8778 - val_loss: 0.3560 - val_accuracy: 0.8436\n",
      "Epoch 53/100\n",
      "30162/30162 [==============================] - 2s 54us/step - loss: 0.2891 - accuracy: 0.8778 - val_loss: 0.3550 - val_accuracy: 0.8412\n",
      "Epoch 54/100\n",
      "30162/30162 [==============================] - 2s 53us/step - loss: 0.2881 - accuracy: 0.8777 - val_loss: 0.3552 - val_accuracy: 0.8412\n",
      "Epoch 55/100\n",
      "30162/30162 [==============================] - 2s 54us/step - loss: 0.2875 - accuracy: 0.8784 - val_loss: 0.3567 - val_accuracy: 0.8411\n",
      "Epoch 56/100\n",
      "30162/30162 [==============================] - 2s 54us/step - loss: 0.2869 - accuracy: 0.8784 - val_loss: 0.3577 - val_accuracy: 0.8434\n",
      "Epoch 57/100\n",
      "30162/30162 [==============================] - 2s 54us/step - loss: 0.2860 - accuracy: 0.8790 - val_loss: 0.3605 - val_accuracy: 0.8428\n",
      "Epoch 58/100\n",
      "30162/30162 [==============================] - 2s 54us/step - loss: 0.2855 - accuracy: 0.8793 - val_loss: 0.3576 - val_accuracy: 0.8434\n",
      "Epoch 59/100\n",
      "30162/30162 [==============================] - 2s 54us/step - loss: 0.2845 - accuracy: 0.8790 - val_loss: 0.3596 - val_accuracy: 0.8430\n",
      "Epoch 60/100\n",
      "30162/30162 [==============================] - 2s 54us/step - loss: 0.2835 - accuracy: 0.8793 - val_loss: 0.3599 - val_accuracy: 0.8430\n",
      "Epoch 61/100\n",
      "30162/30162 [==============================] - 2s 54us/step - loss: 0.2829 - accuracy: 0.8801 - val_loss: 0.3595 - val_accuracy: 0.8418\n",
      "Epoch 62/100\n",
      "30162/30162 [==============================] - 2s 54us/step - loss: 0.2823 - accuracy: 0.8801 - val_loss: 0.3592 - val_accuracy: 0.8412\n",
      "Epoch 63/100\n",
      "30162/30162 [==============================] - 2s 54us/step - loss: 0.2815 - accuracy: 0.8797 - val_loss: 0.3592 - val_accuracy: 0.8396\n",
      "Epoch 64/100\n",
      "30162/30162 [==============================] - 2s 55us/step - loss: 0.2806 - accuracy: 0.8799 - val_loss: 0.3622 - val_accuracy: 0.8402\n",
      "Epoch 65/100\n",
      "30162/30162 [==============================] - 2s 54us/step - loss: 0.2801 - accuracy: 0.8807 - val_loss: 0.3591 - val_accuracy: 0.8406\n",
      "Epoch 66/100\n",
      "30162/30162 [==============================] - 2s 53us/step - loss: 0.2796 - accuracy: 0.8807 - val_loss: 0.3622 - val_accuracy: 0.8414\n",
      "Epoch 67/100\n",
      "30162/30162 [==============================] - 2s 54us/step - loss: 0.2788 - accuracy: 0.8806 - val_loss: 0.3621 - val_accuracy: 0.8398\n",
      "Epoch 68/100\n",
      "30162/30162 [==============================] - 2s 53us/step - loss: 0.2781 - accuracy: 0.8807 - val_loss: 0.3635 - val_accuracy: 0.8404\n",
      "Epoch 69/100\n",
      "30162/30162 [==============================] - 2s 53us/step - loss: 0.2775 - accuracy: 0.8810 - val_loss: 0.3658 - val_accuracy: 0.8406\n",
      "Epoch 70/100\n",
      "30162/30162 [==============================] - 2s 54us/step - loss: 0.2768 - accuracy: 0.8819 - val_loss: 0.3629 - val_accuracy: 0.8392\n",
      "Epoch 71/100\n",
      "30162/30162 [==============================] - 2s 54us/step - loss: 0.2762 - accuracy: 0.8823 - val_loss: 0.3679 - val_accuracy: 0.8394\n",
      "Epoch 72/100\n",
      "30162/30162 [==============================] - 2s 55us/step - loss: 0.2757 - accuracy: 0.8829 - val_loss: 0.3649 - val_accuracy: 0.8394\n",
      "Epoch 73/100\n",
      "30162/30162 [==============================] - 2s 53us/step - loss: 0.2755 - accuracy: 0.8820 - val_loss: 0.3661 - val_accuracy: 0.8400\n",
      "Epoch 74/100\n",
      "30162/30162 [==============================] - 2s 53us/step - loss: 0.2745 - accuracy: 0.8822 - val_loss: 0.3657 - val_accuracy: 0.8414\n",
      "Epoch 75/100\n",
      "30162/30162 [==============================] - 2s 55us/step - loss: 0.2736 - accuracy: 0.8829 - val_loss: 0.3661 - val_accuracy: 0.8378\n",
      "Epoch 76/100\n",
      "30162/30162 [==============================] - 2s 53us/step - loss: 0.2730 - accuracy: 0.8832 - val_loss: 0.3689 - val_accuracy: 0.8382\n",
      "Epoch 77/100\n",
      "30162/30162 [==============================] - 2s 54us/step - loss: 0.2725 - accuracy: 0.8829 - val_loss: 0.3706 - val_accuracy: 0.8415\n",
      "Epoch 78/100\n",
      "30162/30162 [==============================] - 2s 53us/step - loss: 0.2719 - accuracy: 0.8838 - val_loss: 0.3686 - val_accuracy: 0.8343\n",
      "Epoch 79/100\n",
      "30162/30162 [==============================] - 2s 55us/step - loss: 0.2717 - accuracy: 0.8831 - val_loss: 0.3693 - val_accuracy: 0.8392\n",
      "Epoch 80/100\n",
      "30162/30162 [==============================] - 2s 54us/step - loss: 0.2711 - accuracy: 0.8835 - val_loss: 0.3680 - val_accuracy: 0.8361\n",
      "Epoch 81/100\n",
      "30162/30162 [==============================] - 2s 54us/step - loss: 0.2705 - accuracy: 0.8842 - val_loss: 0.3692 - val_accuracy: 0.8390\n",
      "Epoch 82/100\n",
      "30162/30162 [==============================] - 2s 54us/step - loss: 0.2699 - accuracy: 0.8841 - val_loss: 0.3702 - val_accuracy: 0.8358\n",
      "Epoch 83/100\n",
      "30162/30162 [==============================] - 2s 54us/step - loss: 0.2692 - accuracy: 0.8844 - val_loss: 0.3734 - val_accuracy: 0.8373\n",
      "Epoch 84/100\n",
      "30162/30162 [==============================] - 2s 55us/step - loss: 0.2686 - accuracy: 0.8846 - val_loss: 0.3730 - val_accuracy: 0.8391\n",
      "Epoch 85/100\n",
      "30162/30162 [==============================] - 2s 54us/step - loss: 0.2686 - accuracy: 0.8847 - val_loss: 0.3733 - val_accuracy: 0.8357\n",
      "Epoch 86/100\n",
      "30162/30162 [==============================] - 2s 53us/step - loss: 0.2677 - accuracy: 0.8853 - val_loss: 0.3724 - val_accuracy: 0.8353\n",
      "Epoch 87/100\n",
      "30162/30162 [==============================] - 2s 54us/step - loss: 0.2669 - accuracy: 0.8850 - val_loss: 0.3738 - val_accuracy: 0.8390\n",
      "Epoch 88/100\n",
      "30162/30162 [==============================] - 2s 53us/step - loss: 0.2663 - accuracy: 0.8858 - val_loss: 0.3756 - val_accuracy: 0.8351\n",
      "Epoch 89/100\n",
      "30162/30162 [==============================] - 2s 54us/step - loss: 0.2658 - accuracy: 0.8860 - val_loss: 0.3774 - val_accuracy: 0.8406\n",
      "Epoch 90/100\n",
      "30162/30162 [==============================] - 2s 54us/step - loss: 0.2652 - accuracy: 0.8860 - val_loss: 0.3736 - val_accuracy: 0.8373\n",
      "Epoch 91/100\n",
      "30162/30162 [==============================] - 2s 53us/step - loss: 0.2646 - accuracy: 0.8865 - val_loss: 0.3742 - val_accuracy: 0.8361\n",
      "Epoch 92/100\n",
      "30162/30162 [==============================] - 2s 53us/step - loss: 0.2640 - accuracy: 0.8870 - val_loss: 0.3771 - val_accuracy: 0.8341\n",
      "Epoch 93/100\n",
      "30162/30162 [==============================] - 2s 53us/step - loss: 0.2636 - accuracy: 0.8868 - val_loss: 0.3789 - val_accuracy: 0.8386\n",
      "Epoch 94/100\n",
      "30162/30162 [==============================] - 2s 54us/step - loss: 0.2630 - accuracy: 0.8871 - val_loss: 0.3775 - val_accuracy: 0.8351\n",
      "Epoch 95/100\n",
      "30162/30162 [==============================] - 2s 53us/step - loss: 0.2624 - accuracy: 0.8867 - val_loss: 0.3758 - val_accuracy: 0.8361\n",
      "Epoch 96/100\n",
      "30162/30162 [==============================] - 2s 54us/step - loss: 0.2619 - accuracy: 0.8876 - val_loss: 0.3869 - val_accuracy: 0.8412\n",
      "Epoch 97/100\n",
      "30162/30162 [==============================] - 2s 53us/step - loss: 0.2614 - accuracy: 0.8877 - val_loss: 0.3806 - val_accuracy: 0.8353\n",
      "Epoch 98/100\n",
      "30162/30162 [==============================] - 2s 54us/step - loss: 0.2607 - accuracy: 0.8877 - val_loss: 0.3792 - val_accuracy: 0.8352\n",
      "Epoch 99/100\n",
      "30162/30162 [==============================] - 2s 54us/step - loss: 0.2597 - accuracy: 0.8878 - val_loss: 0.3821 - val_accuracy: 0.8295\n",
      "Epoch 100/100\n",
      "30162/30162 [==============================] - 2s 54us/step - loss: 0.2599 - accuracy: 0.8876 - val_loss: 0.3839 - val_accuracy: 0.8375\n"
     ]
    },
    {
     "data": {
      "text/plain": [
       "<keras.callbacks.callbacks.History at 0x7f68467c2f60>"
      ]
     },
     "execution_count": 27,
     "metadata": {
      "tags": []
     },
     "output_type": "execute_result"
    }
   ],
   "source": [
    "model.fit(X_train, y_train, validation_data= (X_test, y_test), batch_size=32,epochs=100, callbacks=[history_adam])"
   ]
  },
  {
   "cell_type": "code",
   "execution_count": 28,
   "metadata": {
    "colab": {
     "base_uri": "https://localhost:8080/",
     "height": 1000
    },
    "colab_type": "code",
    "id": "GTY1EtXe6klk",
    "outputId": "ca72cf74-669e-4ef8-cdd4-1c6a0ccaef0d"
   },
   "outputs": [
    {
     "name": "stdout",
     "output_type": "stream",
     "text": [
      "Train on 30162 samples, validate on 15060 samples\n",
      "Epoch 1/100\n",
      "30162/30162 [==============================] - 2s 51us/step - loss: 0.2585 - accuracy: 0.8895 - val_loss: 0.3824 - val_accuracy: 0.8355\n",
      "Epoch 2/100\n",
      "30162/30162 [==============================] - 1s 49us/step - loss: 0.2577 - accuracy: 0.8895 - val_loss: 0.3858 - val_accuracy: 0.8294\n",
      "Epoch 3/100\n",
      "30162/30162 [==============================] - 2s 50us/step - loss: 0.2575 - accuracy: 0.8898 - val_loss: 0.3858 - val_accuracy: 0.8335\n",
      "Epoch 4/100\n",
      "30162/30162 [==============================] - 1s 49us/step - loss: 0.2572 - accuracy: 0.8890 - val_loss: 0.3842 - val_accuracy: 0.8352\n",
      "Epoch 5/100\n",
      "30162/30162 [==============================] - 1s 49us/step - loss: 0.2568 - accuracy: 0.8895 - val_loss: 0.3887 - val_accuracy: 0.8332\n",
      "Epoch 6/100\n",
      "30162/30162 [==============================] - 1s 49us/step - loss: 0.2569 - accuracy: 0.8898 - val_loss: 0.3852 - val_accuracy: 0.8310\n",
      "Epoch 7/100\n",
      "30162/30162 [==============================] - 1s 49us/step - loss: 0.2569 - accuracy: 0.8892 - val_loss: 0.3885 - val_accuracy: 0.8271\n",
      "Epoch 8/100\n",
      "30162/30162 [==============================] - 2s 50us/step - loss: 0.2566 - accuracy: 0.8897 - val_loss: 0.3885 - val_accuracy: 0.8384\n",
      "Epoch 9/100\n",
      "30162/30162 [==============================] - 2s 50us/step - loss: 0.2560 - accuracy: 0.8899 - val_loss: 0.3856 - val_accuracy: 0.8304\n",
      "Epoch 10/100\n",
      "30162/30162 [==============================] - 1s 49us/step - loss: 0.2560 - accuracy: 0.8902 - val_loss: 0.3877 - val_accuracy: 0.8297\n",
      "Epoch 11/100\n",
      "30162/30162 [==============================] - 1s 49us/step - loss: 0.2561 - accuracy: 0.8891 - val_loss: 0.3894 - val_accuracy: 0.8328\n",
      "Epoch 12/100\n",
      "30162/30162 [==============================] - 1s 49us/step - loss: 0.2555 - accuracy: 0.8890 - val_loss: 0.3898 - val_accuracy: 0.8331\n",
      "Epoch 13/100\n",
      "30162/30162 [==============================] - 1s 49us/step - loss: 0.2554 - accuracy: 0.8901 - val_loss: 0.3888 - val_accuracy: 0.8355\n",
      "Epoch 14/100\n",
      "30162/30162 [==============================] - 1s 49us/step - loss: 0.2554 - accuracy: 0.8897 - val_loss: 0.3882 - val_accuracy: 0.8341\n",
      "Epoch 15/100\n",
      "30162/30162 [==============================] - 1s 49us/step - loss: 0.2554 - accuracy: 0.8897 - val_loss: 0.3906 - val_accuracy: 0.8306\n",
      "Epoch 16/100\n",
      "30162/30162 [==============================] - 1s 49us/step - loss: 0.2554 - accuracy: 0.8900 - val_loss: 0.3883 - val_accuracy: 0.8360\n",
      "Epoch 17/100\n",
      "30162/30162 [==============================] - 1s 49us/step - loss: 0.2551 - accuracy: 0.8899 - val_loss: 0.3904 - val_accuracy: 0.8333\n",
      "Epoch 18/100\n",
      "30162/30162 [==============================] - 2s 51us/step - loss: 0.2550 - accuracy: 0.8902 - val_loss: 0.3898 - val_accuracy: 0.8330\n",
      "Epoch 19/100\n",
      "30162/30162 [==============================] - 2s 50us/step - loss: 0.2545 - accuracy: 0.8898 - val_loss: 0.3933 - val_accuracy: 0.8351\n",
      "Epoch 20/100\n",
      "30162/30162 [==============================] - 1s 50us/step - loss: 0.2547 - accuracy: 0.8901 - val_loss: 0.3896 - val_accuracy: 0.8318\n",
      "Epoch 21/100\n",
      "30162/30162 [==============================] - 1s 49us/step - loss: 0.2541 - accuracy: 0.8904 - val_loss: 0.3919 - val_accuracy: 0.8315\n",
      "Epoch 22/100\n",
      "30162/30162 [==============================] - 2s 50us/step - loss: 0.2543 - accuracy: 0.8907 - val_loss: 0.3913 - val_accuracy: 0.8326\n",
      "Epoch 23/100\n",
      "30162/30162 [==============================] - 2s 50us/step - loss: 0.2541 - accuracy: 0.8907 - val_loss: 0.3910 - val_accuracy: 0.8357\n",
      "Epoch 24/100\n",
      "30162/30162 [==============================] - 1s 49us/step - loss: 0.2538 - accuracy: 0.8907 - val_loss: 0.3913 - val_accuracy: 0.8310\n",
      "Epoch 25/100\n",
      "30162/30162 [==============================] - 1s 49us/step - loss: 0.2535 - accuracy: 0.8906 - val_loss: 0.3957 - val_accuracy: 0.8366\n",
      "Epoch 26/100\n",
      "30162/30162 [==============================] - 1s 49us/step - loss: 0.2537 - accuracy: 0.8905 - val_loss: 0.3930 - val_accuracy: 0.8335\n",
      "Epoch 27/100\n",
      "30162/30162 [==============================] - 1s 49us/step - loss: 0.2534 - accuracy: 0.8907 - val_loss: 0.3952 - val_accuracy: 0.8286\n",
      "Epoch 28/100\n",
      "30162/30162 [==============================] - 2s 51us/step - loss: 0.2535 - accuracy: 0.8900 - val_loss: 0.3926 - val_accuracy: 0.8310\n",
      "Epoch 29/100\n",
      "30162/30162 [==============================] - 1s 49us/step - loss: 0.2534 - accuracy: 0.8904 - val_loss: 0.3933 - val_accuracy: 0.8359\n",
      "Epoch 30/100\n",
      "30162/30162 [==============================] - 1s 49us/step - loss: 0.2532 - accuracy: 0.8906 - val_loss: 0.3916 - val_accuracy: 0.8299\n",
      "Epoch 31/100\n",
      "30162/30162 [==============================] - 1s 50us/step - loss: 0.2533 - accuracy: 0.8903 - val_loss: 0.3928 - val_accuracy: 0.8353\n",
      "Epoch 32/100\n",
      "30162/30162 [==============================] - 2s 50us/step - loss: 0.2531 - accuracy: 0.8905 - val_loss: 0.3916 - val_accuracy: 0.8312\n",
      "Epoch 33/100\n",
      "30162/30162 [==============================] - 2s 52us/step - loss: 0.2529 - accuracy: 0.8907 - val_loss: 0.3954 - val_accuracy: 0.8331\n",
      "Epoch 34/100\n",
      "30162/30162 [==============================] - 1s 49us/step - loss: 0.2527 - accuracy: 0.8909 - val_loss: 0.3921 - val_accuracy: 0.8328\n",
      "Epoch 35/100\n",
      "30162/30162 [==============================] - 1s 49us/step - loss: 0.2526 - accuracy: 0.8917 - val_loss: 0.3931 - val_accuracy: 0.8321\n",
      "Epoch 36/100\n",
      "30162/30162 [==============================] - 1s 50us/step - loss: 0.2521 - accuracy: 0.8910 - val_loss: 0.3951 - val_accuracy: 0.8357\n",
      "Epoch 37/100\n",
      "30162/30162 [==============================] - 2s 50us/step - loss: 0.2523 - accuracy: 0.8922 - val_loss: 0.3966 - val_accuracy: 0.8378\n",
      "Epoch 38/100\n",
      "30162/30162 [==============================] - 2s 50us/step - loss: 0.2519 - accuracy: 0.8915 - val_loss: 0.3978 - val_accuracy: 0.8281\n",
      "Epoch 39/100\n",
      "30162/30162 [==============================] - 2s 50us/step - loss: 0.2522 - accuracy: 0.8909 - val_loss: 0.3951 - val_accuracy: 0.8374\n",
      "Epoch 40/100\n",
      "30162/30162 [==============================] - 1s 49us/step - loss: 0.2521 - accuracy: 0.8915 - val_loss: 0.3976 - val_accuracy: 0.8347\n",
      "Epoch 41/100\n",
      "30162/30162 [==============================] - 2s 50us/step - loss: 0.2516 - accuracy: 0.8911 - val_loss: 0.3987 - val_accuracy: 0.8347\n",
      "Epoch 42/100\n",
      "30162/30162 [==============================] - 1s 49us/step - loss: 0.2517 - accuracy: 0.8914 - val_loss: 0.3961 - val_accuracy: 0.8352\n",
      "Epoch 43/100\n",
      "30162/30162 [==============================] - 2s 50us/step - loss: 0.2513 - accuracy: 0.8913 - val_loss: 0.3969 - val_accuracy: 0.8319\n",
      "Epoch 44/100\n",
      "30162/30162 [==============================] - 1s 49us/step - loss: 0.2514 - accuracy: 0.8916 - val_loss: 0.3988 - val_accuracy: 0.8376\n",
      "Epoch 45/100\n",
      "30162/30162 [==============================] - 2s 50us/step - loss: 0.2515 - accuracy: 0.8912 - val_loss: 0.3972 - val_accuracy: 0.8371\n",
      "Epoch 46/100\n",
      "30162/30162 [==============================] - 2s 50us/step - loss: 0.2508 - accuracy: 0.8917 - val_loss: 0.4001 - val_accuracy: 0.8365\n",
      "Epoch 47/100\n",
      "30162/30162 [==============================] - 1s 49us/step - loss: 0.2513 - accuracy: 0.8920 - val_loss: 0.3967 - val_accuracy: 0.8365\n",
      "Epoch 48/100\n",
      "30162/30162 [==============================] - 2s 50us/step - loss: 0.2514 - accuracy: 0.8918 - val_loss: 0.3998 - val_accuracy: 0.8274\n",
      "Epoch 49/100\n",
      "30162/30162 [==============================] - 1s 49us/step - loss: 0.2506 - accuracy: 0.8917 - val_loss: 0.3964 - val_accuracy: 0.8338\n",
      "Epoch 50/100\n",
      "30162/30162 [==============================] - 2s 51us/step - loss: 0.2512 - accuracy: 0.8912 - val_loss: 0.3996 - val_accuracy: 0.8343\n",
      "Epoch 51/100\n",
      "30162/30162 [==============================] - 1s 49us/step - loss: 0.2505 - accuracy: 0.8915 - val_loss: 0.3980 - val_accuracy: 0.8363\n",
      "Epoch 52/100\n",
      "30162/30162 [==============================] - 1s 50us/step - loss: 0.2508 - accuracy: 0.8923 - val_loss: 0.3972 - val_accuracy: 0.8307\n",
      "Epoch 53/100\n",
      "30162/30162 [==============================] - 2s 50us/step - loss: 0.2508 - accuracy: 0.8918 - val_loss: 0.3975 - val_accuracy: 0.8299\n",
      "Epoch 54/100\n",
      "30162/30162 [==============================] - 2s 50us/step - loss: 0.2504 - accuracy: 0.8916 - val_loss: 0.4044 - val_accuracy: 0.8204\n",
      "Epoch 55/100\n",
      "30162/30162 [==============================] - 2s 51us/step - loss: 0.2500 - accuracy: 0.8923 - val_loss: 0.3997 - val_accuracy: 0.8342\n",
      "Epoch 56/100\n",
      "30162/30162 [==============================] - 2s 50us/step - loss: 0.2504 - accuracy: 0.8922 - val_loss: 0.3967 - val_accuracy: 0.8329\n",
      "Epoch 57/100\n",
      "30162/30162 [==============================] - 2s 50us/step - loss: 0.2499 - accuracy: 0.8925 - val_loss: 0.3980 - val_accuracy: 0.8328\n",
      "Epoch 58/100\n",
      "30162/30162 [==============================] - 2s 50us/step - loss: 0.2498 - accuracy: 0.8920 - val_loss: 0.3992 - val_accuracy: 0.8319\n",
      "Epoch 59/100\n",
      "30162/30162 [==============================] - 1s 49us/step - loss: 0.2496 - accuracy: 0.8919 - val_loss: 0.4025 - val_accuracy: 0.8365\n",
      "Epoch 60/100\n",
      "30162/30162 [==============================] - 1s 50us/step - loss: 0.2496 - accuracy: 0.8930 - val_loss: 0.4005 - val_accuracy: 0.8282\n",
      "Epoch 61/100\n",
      "30162/30162 [==============================] - 2s 51us/step - loss: 0.2491 - accuracy: 0.8924 - val_loss: 0.3993 - val_accuracy: 0.8352\n",
      "Epoch 62/100\n",
      "30162/30162 [==============================] - 2s 50us/step - loss: 0.2491 - accuracy: 0.8923 - val_loss: 0.3998 - val_accuracy: 0.8341\n",
      "Epoch 63/100\n",
      "30162/30162 [==============================] - 2s 50us/step - loss: 0.2491 - accuracy: 0.8922 - val_loss: 0.4013 - val_accuracy: 0.8275\n",
      "Epoch 64/100\n",
      "30162/30162 [==============================] - 1s 49us/step - loss: 0.2493 - accuracy: 0.8929 - val_loss: 0.4011 - val_accuracy: 0.8290\n",
      "Epoch 65/100\n",
      "30162/30162 [==============================] - 1s 49us/step - loss: 0.2492 - accuracy: 0.8921 - val_loss: 0.4028 - val_accuracy: 0.8294\n",
      "Epoch 66/100\n",
      "30162/30162 [==============================] - 2s 51us/step - loss: 0.2487 - accuracy: 0.8926 - val_loss: 0.4030 - val_accuracy: 0.8338\n",
      "Epoch 67/100\n",
      "30162/30162 [==============================] - 1s 49us/step - loss: 0.2488 - accuracy: 0.8931 - val_loss: 0.4021 - val_accuracy: 0.8298\n",
      "Epoch 68/100\n",
      "30162/30162 [==============================] - 1s 49us/step - loss: 0.2486 - accuracy: 0.8931 - val_loss: 0.4008 - val_accuracy: 0.8276\n",
      "Epoch 69/100\n",
      "30162/30162 [==============================] - 1s 50us/step - loss: 0.2485 - accuracy: 0.8920 - val_loss: 0.4011 - val_accuracy: 0.8317\n",
      "Epoch 70/100\n",
      "30162/30162 [==============================] - 2s 50us/step - loss: 0.2486 - accuracy: 0.8926 - val_loss: 0.4015 - val_accuracy: 0.8357\n",
      "Epoch 71/100\n",
      "30162/30162 [==============================] - 1s 49us/step - loss: 0.2482 - accuracy: 0.8929 - val_loss: 0.4041 - val_accuracy: 0.8277\n",
      "Epoch 72/100\n",
      "30162/30162 [==============================] - 2s 50us/step - loss: 0.2483 - accuracy: 0.8937 - val_loss: 0.4026 - val_accuracy: 0.8306\n",
      "Epoch 73/100\n",
      "30162/30162 [==============================] - 2s 50us/step - loss: 0.2476 - accuracy: 0.8935 - val_loss: 0.4008 - val_accuracy: 0.8323\n",
      "Epoch 74/100\n",
      "30162/30162 [==============================] - 1s 49us/step - loss: 0.2479 - accuracy: 0.8933 - val_loss: 0.4023 - val_accuracy: 0.8347\n",
      "Epoch 75/100\n",
      "30162/30162 [==============================] - 2s 50us/step - loss: 0.2479 - accuracy: 0.8928 - val_loss: 0.4049 - val_accuracy: 0.8279\n",
      "Epoch 76/100\n",
      "30162/30162 [==============================] - 2s 50us/step - loss: 0.2477 - accuracy: 0.8927 - val_loss: 0.4030 - val_accuracy: 0.8359\n",
      "Epoch 77/100\n",
      "30162/30162 [==============================] - 1s 49us/step - loss: 0.2473 - accuracy: 0.8931 - val_loss: 0.4036 - val_accuracy: 0.8316\n",
      "Epoch 78/100\n",
      "30162/30162 [==============================] - 1s 50us/step - loss: 0.2476 - accuracy: 0.8933 - val_loss: 0.4059 - val_accuracy: 0.8327\n",
      "Epoch 79/100\n",
      "30162/30162 [==============================] - 1s 50us/step - loss: 0.2477 - accuracy: 0.8934 - val_loss: 0.4064 - val_accuracy: 0.8270\n",
      "Epoch 80/100\n",
      "30162/30162 [==============================] - 1s 49us/step - loss: 0.2469 - accuracy: 0.8942 - val_loss: 0.4021 - val_accuracy: 0.8295\n",
      "Epoch 81/100\n",
      "30162/30162 [==============================] - 2s 50us/step - loss: 0.2476 - accuracy: 0.8930 - val_loss: 0.4057 - val_accuracy: 0.8282\n",
      "Epoch 82/100\n",
      "30162/30162 [==============================] - 1s 49us/step - loss: 0.2472 - accuracy: 0.8941 - val_loss: 0.4049 - val_accuracy: 0.8305\n",
      "Epoch 83/100\n",
      "30162/30162 [==============================] - 2s 50us/step - loss: 0.2467 - accuracy: 0.8940 - val_loss: 0.4055 - val_accuracy: 0.8312\n",
      "Epoch 84/100\n",
      "30162/30162 [==============================] - 2s 50us/step - loss: 0.2467 - accuracy: 0.8940 - val_loss: 0.4061 - val_accuracy: 0.8294\n",
      "Epoch 85/100\n",
      "30162/30162 [==============================] - 2s 50us/step - loss: 0.2469 - accuracy: 0.8929 - val_loss: 0.4052 - val_accuracy: 0.8307\n",
      "Epoch 86/100\n",
      "30162/30162 [==============================] - 2s 50us/step - loss: 0.2464 - accuracy: 0.8931 - val_loss: 0.4072 - val_accuracy: 0.8293\n",
      "Epoch 87/100\n",
      "30162/30162 [==============================] - 1s 49us/step - loss: 0.2462 - accuracy: 0.8934 - val_loss: 0.4044 - val_accuracy: 0.8329\n",
      "Epoch 88/100\n",
      "30162/30162 [==============================] - 1s 50us/step - loss: 0.2460 - accuracy: 0.8945 - val_loss: 0.4083 - val_accuracy: 0.8321\n",
      "Epoch 89/100\n",
      "30162/30162 [==============================] - 1s 50us/step - loss: 0.2461 - accuracy: 0.8936 - val_loss: 0.4039 - val_accuracy: 0.8311\n",
      "Epoch 90/100\n",
      "30162/30162 [==============================] - 1s 49us/step - loss: 0.2463 - accuracy: 0.8931 - val_loss: 0.4091 - val_accuracy: 0.8360\n",
      "Epoch 91/100\n",
      "30162/30162 [==============================] - 2s 52us/step - loss: 0.2462 - accuracy: 0.8930 - val_loss: 0.4081 - val_accuracy: 0.8359\n",
      "Epoch 92/100\n",
      "30162/30162 [==============================] - 2s 52us/step - loss: 0.2463 - accuracy: 0.8939 - val_loss: 0.4072 - val_accuracy: 0.8351\n",
      "Epoch 93/100\n",
      "30162/30162 [==============================] - 2s 52us/step - loss: 0.2460 - accuracy: 0.8942 - val_loss: 0.4086 - val_accuracy: 0.8277\n",
      "Epoch 94/100\n",
      "30162/30162 [==============================] - 2s 52us/step - loss: 0.2454 - accuracy: 0.8944 - val_loss: 0.4095 - val_accuracy: 0.8288\n",
      "Epoch 95/100\n",
      "30162/30162 [==============================] - 2s 53us/step - loss: 0.2454 - accuracy: 0.8936 - val_loss: 0.4073 - val_accuracy: 0.8348\n",
      "Epoch 96/100\n",
      "30162/30162 [==============================] - 2s 54us/step - loss: 0.2454 - accuracy: 0.8940 - val_loss: 0.4078 - val_accuracy: 0.8292\n",
      "Epoch 97/100\n",
      "30162/30162 [==============================] - 2s 53us/step - loss: 0.2456 - accuracy: 0.8947 - val_loss: 0.4068 - val_accuracy: 0.8316\n",
      "Epoch 98/100\n",
      "30162/30162 [==============================] - 1s 50us/step - loss: 0.2451 - accuracy: 0.8941 - val_loss: 0.4059 - val_accuracy: 0.8331\n",
      "Epoch 99/100\n",
      "30162/30162 [==============================] - 1s 49us/step - loss: 0.2452 - accuracy: 0.8937 - val_loss: 0.4101 - val_accuracy: 0.8321\n",
      "Epoch 100/100\n",
      "30162/30162 [==============================] - 1s 49us/step - loss: 0.2450 - accuracy: 0.8946 - val_loss: 0.4076 - val_accuracy: 0.8323\n"
     ]
    },
    {
     "data": {
      "text/plain": [
       "<keras.callbacks.callbacks.History at 0x7f68466df6d8>"
      ]
     },
     "execution_count": 28,
     "metadata": {
      "tags": []
     },
     "output_type": "execute_result"
    }
   ],
   "source": [
    "adam_0001_history = History()\n",
    "Adam_0001 = keras.optimizers.Adam(learning_rate=0.0001, beta_1=0.9, beta_2=0.999, amsgrad=False)\n",
    "model.compile(loss=\"binary_crossentropy\",optimizer=sgd, metrics=[\"accuracy\"])\n",
    "model.fit(X_train, y_train, validation_data= (X_test, y_test), batch_size=32,epochs=100, callbacks=[adam_0001_history])"
   ]
  },
  {
   "cell_type": "code",
   "execution_count": 30,
   "metadata": {
    "colab": {
     "base_uri": "https://localhost:8080/",
     "height": 265
    },
    "colab_type": "code",
    "id": "EJS5oDLA8QS-",
    "outputId": "d0867f7a-481c-4361-ff24-6bfca6429bed"
   },
   "outputs": [
    {
     "data": {
      "image/png": "[encoded data removed]",
      "text/plain": [
       "<Figure size 432x288 with 1 Axes>"
      ]
     },
     "metadata": {
      "needs_background": "light",
      "tags": []
     },
     "output_type": "display_data"
    }
   ],
   "source": [
    "import matplotlib.pyplot as pl\n",
    "plt.plot(adam_0001_history.history['accuracy'], label = \"adam_0001\")\n",
    "plt.plot(adam_0001_history.history['val_accuracy'], label = \"adam_0001_val\")\n",
    "plt.legend()\n",
    "plt.show()"
   ]
  },
  {
   "cell_type": "code",
   "execution_count": 0,
   "metadata": {
    "colab": {},
    "colab_type": "code",
    "id": "CGn-6Hv585b-"
   },
   "outputs": [],
   "source": []
  }
 ],
 "metadata": {
  "colab": {
   "name": "AD_Z11_E_optimizer.ipynb",
   "provenance": []
  },
  "kernelspec": {
   "display_name": "Python 3",
   "language": "python",
   "name": "python3"
  },
  "language_info": {
   "codemirror_mode": {
    "name": "ipython",
    "version": 3
   },
   "file_extension": ".py",
   "mimetype": "text/x-python",
   "name": "python",
   "nbconvert_exporter": "python",
   "pygments_lexer": "ipython3",
   "version": "3.8.2"
  }
 },
 "nbformat": 4,
 "nbformat_minor": 1
}
